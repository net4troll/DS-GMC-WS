{
 "cells": [
  {
   "attachments": {},
   "cell_type": "markdown",
   "metadata": {},
   "source": [
    "**Q1: Write a Python function to find the Max of three numbers.**\n",
    "\n"
   ]
  },
  {
   "cell_type": "code",
   "execution_count": 50,
   "metadata": {},
   "outputs": [
    {
     "data": {
      "text/plain": [
       "12.3"
      ]
     },
     "execution_count": 50,
     "metadata": {},
     "output_type": "execute_result"
    }
   ],
   "source": [
    "def  max(a,b,c):\n",
    "    if a>b>c:\n",
    "        return a\n",
    "    elif b>c:\n",
    "        return b\n",
    "    return c\n",
    "max(12.3,10,9)"
   ]
  },
  {
   "attachments": {},
   "cell_type": "markdown",
   "metadata": {},
   "source": [
    "**Q2: Write a function calculation() such that it can accept two variables and calculate the addition and subtraction of it. And also it must return both addition and subtraction in a single return call. For example: calculation(40, 10) should produce 50, 30**"
   ]
  },
  {
   "cell_type": "code",
   "execution_count": 51,
   "metadata": {},
   "outputs": [
    {
     "data": {
      "text/plain": [
       "(50, 30)"
      ]
     },
     "execution_count": 51,
     "metadata": {},
     "output_type": "execute_result"
    }
   ],
   "source": [
    "def calculation(x,y):\n",
    "    return x+y , x-y\n",
    "calculation(40,10)"
   ]
  },
  {
   "attachments": {},
   "cell_type": "markdown",
   "metadata": {},
   "source": [
    "**Q3:  Write a function that sums the elements of a list of integers.**\n",
    "\n",
    "* Write a function that multiplies the elements of an integer list.\n",
    "\n",
    "* Use the two functions to sum the elements whose position is an even number (0,2,4…) and multiply the rest.\n",
    "\n",
    "Hint: Consider extracting two lists from a first list \n",
    "\n"
   ]
  },
  {
   "cell_type": "code",
   "execution_count": 3,
   "metadata": {},
   "outputs": [],
   "source": [
    "def list_sum(l:list):\n",
    "    s=0\n",
    "    for i in l :\n",
    "        s=s+i\n",
    "    return s\n",
    "def list_mult(k:list):\n",
    "    m=1\n",
    "    for p in k :\n",
    "        m=m*p\n",
    "    return m"
   ]
  },
  {
   "cell_type": "code",
   "execution_count": 4,
   "metadata": {},
   "outputs": [
    {
     "name": "stdout",
     "output_type": "stream",
     "text": [
      "16\n",
      "90\n"
     ]
    }
   ],
   "source": [
    "my_list=[3,5,2,9,4,2,7]\n",
    "odd_list = [my_list[o] for o in range(0,len(my_list),2)]\n",
    "even_list = [my_list[o] for o in range(1,len(my_list),2)]\n",
    "print(list_sum(odd_list))\n",
    "print(list_mult(even_list))"
   ]
  }
 ],
 "metadata": {
  "kernelspec": {
   "display_name": "base",
   "language": "python",
   "name": "python3"
  },
  "language_info": {
   "codemirror_mode": {
    "name": "ipython",
    "version": 3
   },
   "file_extension": ".py",
   "mimetype": "text/x-python",
   "name": "python",
   "nbconvert_exporter": "python",
   "pygments_lexer": "ipython3",
   "version": "3.10.8 | packaged by conda-forge | (main, Nov 22 2022, 08:25:29) [Clang 14.0.6 ]"
  },
  "orig_nbformat": 4,
  "vscode": {
   "interpreter": {
    "hash": "effd6eb20764c7dd91f668260d6550f8f929f55360e6099d546cda7048d864e3"
   }
  }
 },
 "nbformat": 4,
 "nbformat_minor": 2
}
