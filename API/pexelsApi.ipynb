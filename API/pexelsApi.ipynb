{
 "cells": [
  {
   "cell_type": "code",
   "execution_count": 6,
   "metadata": {},
   "outputs": [],
   "source": [
    "import requests\n",
    "import shutil\n",
    "\n",
    "# set your Pexels API key\n",
    "API_KEY = \"vIx3Y15VV5aYAKuwbGQRH0fLm6bJmxodzGYZyzuJceKXjHyl8GGXijoe\"\n",
    "\n",
    "# set the search query you want to download photos for\n",
    "query = 'furious people'\n",
    "\n",
    "# set the number of photos to download\n",
    "num_photos = 1000\n",
    "\n",
    "# make a request to the Pexels API to search for photos with the query\n",
    "response = requests.get(f\"https://api.pexels.com/v1/search/?query={query}&per_page={num_photos}\", headers={\"Authorization\": API_KEY})\n",
    "\n",
    "# loop through the photos in the API response and save them\n",
    "for photo in response.json()[\"photos\"]:\n",
    "    # get the photo download URL from the API response\n",
    "    photo_download_url = photo[\"src\"][\"original\"]\n",
    "    \n",
    "    # make a request to the photo download URL and save the photo\n",
    "    with requests.get(photo_download_url, stream=True) as r:\n",
    "        with open(f\"/Users/alfahwun/Documents/pexels/angry people/{photo['id']}.jpg\", \"wb\") as f:\n",
    "            shutil.copyfileobj(r.raw, f)\n"
   ]
  },
  {
   "cell_type": "code",
   "execution_count": null,
   "metadata": {},
   "outputs": [],
   "source": []
  }
 ],
 "metadata": {
  "kernelspec": {
   "display_name": "base",
   "language": "python",
   "name": "python3"
  },
  "language_info": {
   "codemirror_mode": {
    "name": "ipython",
    "version": 3
   },
   "file_extension": ".py",
   "mimetype": "text/x-python",
   "name": "python",
   "nbconvert_exporter": "python",
   "pygments_lexer": "ipython3",
   "version": "3.10.9"
  },
  "orig_nbformat": 4
 },
 "nbformat": 4,
 "nbformat_minor": 2
}
