{
 "cells": [
  {
   "attachments": {},
   "cell_type": "markdown",
   "metadata": {},
   "source": [
    "### An API allows different software systems to communicate with each other and exchange information in a standardized way."
   ]
  },
  {
   "cell_type": "code",
   "execution_count": 1,
   "metadata": {},
   "outputs": [
    {
     "name": "stdout",
     "output_type": "stream",
     "text": [
      "200\n"
     ]
    }
   ],
   "source": [
    "import requests\n",
    "u = 'http://api.open-notify.org/astros.json'\n",
    "res = requests.get(u)\n",
    "print(res.status_code) #it shows us the status code directly"
   ]
  },
  {
   "cell_type": "code",
   "execution_count": 2,
   "metadata": {},
   "outputs": [],
   "source": [
    "import json\n",
    "response = requests.get(\"http://api.open-notify.org/astros.json\")"
   ]
  },
  {
   "cell_type": "code",
   "execution_count": 3,
   "metadata": {},
   "outputs": [
    {
     "data": {
      "text/plain": [
       "{'message': 'success',\n",
       " 'people': [{'name': 'Sergey Prokopyev', 'craft': 'ISS'},\n",
       "  {'name': 'Dmitry Petelin', 'craft': 'ISS'},\n",
       "  {'name': 'Frank Rubio', 'craft': 'ISS'},\n",
       "  {'name': 'Nicole Mann', 'craft': 'ISS'},\n",
       "  {'name': 'Josh Cassada', 'craft': 'ISS'},\n",
       "  {'name': 'Koichi Wakata', 'craft': 'ISS'},\n",
       "  {'name': 'Anna Kikina', 'craft': 'ISS'},\n",
       "  {'name': 'Fei Junlong', 'craft': 'Shenzhou 15'},\n",
       "  {'name': 'Deng Qingming', 'craft': 'Shenzhou 15'},\n",
       "  {'name': 'Zhang Lu', 'craft': 'Shenzhou 15'}],\n",
       " 'number': 10}"
      ]
     },
     "execution_count": 3,
     "metadata": {},
     "output_type": "execute_result"
    }
   ],
   "source": [
    "data = json.loads(response.text)\n",
    "data"
   ]
  },
  {
   "cell_type": "code",
   "execution_count": 4,
   "metadata": {},
   "outputs": [
    {
     "data": {
      "text/html": [
       "<div>\n",
       "<style scoped>\n",
       "    .dataframe tbody tr th:only-of-type {\n",
       "        vertical-align: middle;\n",
       "    }\n",
       "\n",
       "    .dataframe tbody tr th {\n",
       "        vertical-align: top;\n",
       "    }\n",
       "\n",
       "    .dataframe thead th {\n",
       "        text-align: right;\n",
       "    }\n",
       "</style>\n",
       "<table border=\"1\" class=\"dataframe\">\n",
       "  <thead>\n",
       "    <tr style=\"text-align: right;\">\n",
       "      <th></th>\n",
       "      <th>name</th>\n",
       "      <th>craft</th>\n",
       "    </tr>\n",
       "  </thead>\n",
       "  <tbody>\n",
       "    <tr>\n",
       "      <th>0</th>\n",
       "      <td>Sergey Prokopyev</td>\n",
       "      <td>ISS</td>\n",
       "    </tr>\n",
       "    <tr>\n",
       "      <th>1</th>\n",
       "      <td>Dmitry Petelin</td>\n",
       "      <td>ISS</td>\n",
       "    </tr>\n",
       "    <tr>\n",
       "      <th>2</th>\n",
       "      <td>Frank Rubio</td>\n",
       "      <td>ISS</td>\n",
       "    </tr>\n",
       "    <tr>\n",
       "      <th>3</th>\n",
       "      <td>Nicole Mann</td>\n",
       "      <td>ISS</td>\n",
       "    </tr>\n",
       "    <tr>\n",
       "      <th>4</th>\n",
       "      <td>Josh Cassada</td>\n",
       "      <td>ISS</td>\n",
       "    </tr>\n",
       "    <tr>\n",
       "      <th>5</th>\n",
       "      <td>Koichi Wakata</td>\n",
       "      <td>ISS</td>\n",
       "    </tr>\n",
       "    <tr>\n",
       "      <th>6</th>\n",
       "      <td>Anna Kikina</td>\n",
       "      <td>ISS</td>\n",
       "    </tr>\n",
       "    <tr>\n",
       "      <th>7</th>\n",
       "      <td>Fei Junlong</td>\n",
       "      <td>Shenzhou 15</td>\n",
       "    </tr>\n",
       "    <tr>\n",
       "      <th>8</th>\n",
       "      <td>Deng Qingming</td>\n",
       "      <td>Shenzhou 15</td>\n",
       "    </tr>\n",
       "    <tr>\n",
       "      <th>9</th>\n",
       "      <td>Zhang Lu</td>\n",
       "      <td>Shenzhou 15</td>\n",
       "    </tr>\n",
       "  </tbody>\n",
       "</table>\n",
       "</div>"
      ],
      "text/plain": [
       "               name        craft\n",
       "0  Sergey Prokopyev          ISS\n",
       "1    Dmitry Petelin          ISS\n",
       "2       Frank Rubio          ISS\n",
       "3       Nicole Mann          ISS\n",
       "4      Josh Cassada          ISS\n",
       "5     Koichi Wakata          ISS\n",
       "6       Anna Kikina          ISS\n",
       "7       Fei Junlong  Shenzhou 15\n",
       "8     Deng Qingming  Shenzhou 15\n",
       "9          Zhang Lu  Shenzhou 15"
      ]
     },
     "execution_count": 4,
     "metadata": {},
     "output_type": "execute_result"
    }
   ],
   "source": [
    "import pandas as pd\n",
    "\n",
    "df = pd.DataFrame(data['people'])\n",
    "df"
   ]
  },
  {
   "cell_type": "code",
   "execution_count": null,
   "metadata": {},
   "outputs": [],
   "source": []
  }
 ],
 "metadata": {
  "kernelspec": {
   "display_name": "base",
   "language": "python",
   "name": "python3"
  },
  "language_info": {
   "codemirror_mode": {
    "name": "ipython",
    "version": 3
   },
   "file_extension": ".py",
   "mimetype": "text/x-python",
   "name": "python",
   "nbconvert_exporter": "python",
   "pygments_lexer": "ipython3",
   "version": "3.10.8"
  },
  "orig_nbformat": 4,
  "vscode": {
   "interpreter": {
    "hash": "320a220aef940f7325971b65a120554b2de414fca785f85c62125cc005fc1e90"
   }
  }
 },
 "nbformat": 4,
 "nbformat_minor": 2
}
