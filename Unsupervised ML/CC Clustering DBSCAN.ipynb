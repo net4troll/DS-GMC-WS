{
 "cells": [
  {
   "cell_type": "code",
   "execution_count": 1,
   "metadata": {},
   "outputs": [],
   "source": [
    "import pandas as pd\n",
    "import numpy as np\n",
    "data=pd.read_csv(\"/Users/alfahwun/Downloads/CC GENERAL.csv\")\n",
    "data=data.drop(\"CUST_ID\", axis=1)\n",
    "#filling null value of MINIMUM_PAYMENTS with the mean value of the column\n",
    "data['MINIMUM_PAYMENTS'] = data['MINIMUM_PAYMENTS'].fillna(data['MINIMUM_PAYMENTS'].mean())\n",
    "#filling the unique null value on the CREDIT_LIMIT column with the mode\n",
    "data['CREDIT_LIMIT'] = data['CREDIT_LIMIT'].fillna(data['CREDIT_LIMIT'].mean())"
   ]
  },
  {
   "cell_type": "code",
   "execution_count": 2,
   "metadata": {},
   "outputs": [],
   "source": [
    "#standarizing the dataset\n",
    "from sklearn.preprocessing import StandardScaler\n",
    "data_scaled= StandardScaler().fit_transform(data)"
   ]
  },
  {
   "cell_type": "code",
   "execution_count": 3,
   "metadata": {},
   "outputs": [
    {
     "data": {
      "text/plain": [
       "array([[-0.73198937, -0.24943448, -0.42489974, ..., -0.31096755,\n",
       "        -0.52555097,  0.36067954],\n",
       "       [ 0.78696085,  0.13432467, -0.46955188, ...,  0.08931021,\n",
       "         0.2342269 ,  0.36067954],\n",
       "       [ 0.44713513,  0.51808382, -0.10766823, ..., -0.10166318,\n",
       "        -0.52555097,  0.36067954],\n",
       "       ...,\n",
       "       [-0.7403981 , -0.18547673, -0.40196519, ..., -0.33546549,\n",
       "         0.32919999, -4.12276757],\n",
       "       [-0.74517423, -0.18547673, -0.46955188, ..., -0.34690648,\n",
       "         0.32919999, -4.12276757],\n",
       "       [-0.57257511, -0.88903307,  0.04214581, ..., -0.33294642,\n",
       "        -0.52555097, -4.12276757]])"
      ]
     },
     "execution_count": 3,
     "metadata": {},
     "output_type": "execute_result"
    }
   ],
   "source": [
    "data_scaled"
   ]
  },
  {
   "cell_type": "code",
   "execution_count": 4,
   "metadata": {},
   "outputs": [],
   "source": [
    "#Importing Libraries\n",
    "from sklearn.cluster import DBSCAN\n",
    "import matplotlib.pyplot as plt\n"
   ]
  },
  {
   "cell_type": "code",
   "execution_count": 13,
   "metadata": {},
   "outputs": [
    {
     "data": {
      "text/plain": [
       "array([0, 0, 0, ..., 0, 0, 0])"
      ]
     },
     "execution_count": 13,
     "metadata": {},
     "output_type": "execute_result"
    }
   ],
   "source": [
    "dbscan = DBSCAN(eps=4,min_samples=3)\n",
    "dbscan.fit(data_scaled)\n",
    "labels = dbscan.labels_\n",
    "labels"
   ]
  },
  {
   "cell_type": "code",
   "execution_count": 14,
   "metadata": {},
   "outputs": [
    {
     "data": {
      "text/plain": [
       " 0    8854\n",
       "-1      90\n",
       " 1       3\n",
       " 2       3\n",
       "Name: clusters, dtype: int64"
      ]
     },
     "execution_count": 14,
     "metadata": {},
     "output_type": "execute_result"
    }
   ],
   "source": [
    "dbscan_df = pd.DataFrame(data_scaled,columns = data.columns)\n",
    "dbscan_df['clusters'] = labels\n",
    "dbscan_df.clusters.value_counts()"
   ]
  },
  {
   "cell_type": "code",
   "execution_count": 10,
   "metadata": {},
   "outputs": [
    {
     "name": "stdout",
     "output_type": "stream",
     "text": [
      "Silhouette Coefficient for eps and min_samples 1 3 -0.4198663399289666 67\n",
      "Silhouette Coefficient for eps and min_samples 1 4 -0.3253254771868794 27\n",
      "Silhouette Coefficient for eps and min_samples 1 5 -0.2487331512450016 16\n",
      "Silhouette Coefficient for eps and min_samples 1 6 -0.14554944445468265 6\n",
      "Silhouette Coefficient for eps and min_samples 2 3 0.12899090447061923 7\n",
      "Silhouette Coefficient for eps and min_samples 2 4 0.1709048804029977 5\n",
      "Silhouette Coefficient for eps and min_samples 2 5 0.3970279181847056 3\n",
      "Silhouette Coefficient for eps and min_samples 2 6 0.4809715562552441 2\n",
      "Silhouette Coefficient for eps and min_samples 3 3 0.3959177469221821 7\n",
      "Silhouette Coefficient for eps and min_samples 3 4 0.3968222543756684 5\n",
      "Silhouette Coefficient for eps and min_samples 3 5 0.6251337611966407 2\n",
      "Silhouette Coefficient for eps and min_samples 3 6 0.622808501335112 2\n",
      "Silhouette Coefficient for eps and min_samples 4 3 0.6239437244303323 4\n",
      "Silhouette Coefficient for eps and min_samples 4 4 0.704449823196489 2\n",
      "Silhouette Coefficient for eps and min_samples 4 5 0.7016558459455192 2\n",
      "Silhouette Coefficient for eps and min_samples 4 6 0.6985896999775866 2\n",
      "Silhouette Coefficient for eps and min_samples 5 3 0.7077334984013299 4\n",
      "Silhouette Coefficient for eps and min_samples 5 4 0.712326616941012 3\n",
      "Silhouette Coefficient for eps and min_samples 5 5 0.712326616941012 3\n",
      "Silhouette Coefficient for eps and min_samples 5 6 0.7542144137263589 2\n",
      "Silhouette Coefficient for eps and min_samples 6 3 0.7823688319502432 3\n",
      "Silhouette Coefficient for eps and min_samples 6 4 0.7916589426740982 2\n",
      "Silhouette Coefficient for eps and min_samples 6 5 0.7556531565850987 3\n",
      "Silhouette Coefficient for eps and min_samples 6 6 0.7483431429401037 3\n",
      "Silhouette Coefficient for eps and min_samples 7 3 0.7811109798855764 4\n",
      "Silhouette Coefficient for eps and min_samples 7 4 0.8033319015158963 2\n",
      "Silhouette Coefficient for eps and min_samples 7 5 0.8033319015158963 2\n",
      "Silhouette Coefficient for eps and min_samples 7 6 0.8033319015158963 2\n",
      "Silhouette Coefficient for eps and min_samples 8 3 0.8117446561404283 2\n",
      "Silhouette Coefficient for eps and min_samples 8 4 0.8117446561404283 2\n",
      "Silhouette Coefficient for eps and min_samples 8 5 0.8096214530246632 2\n",
      "Silhouette Coefficient for eps and min_samples 8 6 0.8082593876252484 2\n",
      "Silhouette Coefficient for eps and min_samples 9 3 0.8292334696999069 2\n",
      "Silhouette Coefficient for eps and min_samples 9 4 0.8299720619360447 2\n",
      "Silhouette Coefficient for eps and min_samples 9 5 0.8299720619360447 2\n",
      "Silhouette Coefficient for eps and min_samples 9 6 0.8299720619360447 2\n"
     ]
    }
   ],
   "source": [
    "from sklearn.metrics import silhouette_score\n",
    "eps=np.arange(1,10,1)\n",
    "min_samples=np.arange(3,7,1)\n",
    "for ep in eps:\n",
    "    for mns in min_samples:\n",
    "        dbs=DBSCAN(eps=ep, min_samples=mns)\n",
    "        dbs.fit(data_scaled)\n",
    "        print(\"Silhouette Coefficient for eps and min_samples\",ep,mns,silhouette_score(data_scaled, dbs.labels_),len(pd.Series(dbs.labels_).value_counts()))"
   ]
  },
  {
   "cell_type": "code",
   "execution_count": null,
   "metadata": {},
   "outputs": [],
   "source": [
    "pd.Series(dbs.labels_).value_counts()"
   ]
  },
  {
   "cell_type": "code",
   "execution_count": null,
   "metadata": {},
   "outputs": [],
   "source": [
    "dbscan = DBSCAN(eps=3, min_samples=5)\n",
    "dbscan.fit(X1)\n",
    "myColors = {-1:'red',0:'green',1:'blue'}                                 # Define a color palette: -1~1.  Red = -1 = outlier.\n",
    "plt.scatter(X1[:,0],X1[:,1], c= pd.Series(dbscan.labels_).apply(lambda x: myColors[x]), alpha=0.7 )   \n",
    "plt.title('Dataset #1 : DBSCAN')\n",
    "plt.show()"
   ]
  },
  {
   "cell_type": "code",
   "execution_count": null,
   "metadata": {},
   "outputs": [],
   "source": [
    "pl"
   ]
  }
 ],
 "metadata": {
  "kernelspec": {
   "display_name": "base",
   "language": "python",
   "name": "python3"
  },
  "language_info": {
   "codemirror_mode": {
    "name": "ipython",
    "version": 3
   },
   "file_extension": ".py",
   "mimetype": "text/x-python",
   "name": "python",
   "nbconvert_exporter": "python",
   "pygments_lexer": "ipython3",
   "version": "3.10.8"
  },
  "orig_nbformat": 4,
  "vscode": {
   "interpreter": {
    "hash": "320a220aef940f7325971b65a120554b2de414fca785f85c62125cc005fc1e90"
   }
  }
 },
 "nbformat": 4,
 "nbformat_minor": 2
}
