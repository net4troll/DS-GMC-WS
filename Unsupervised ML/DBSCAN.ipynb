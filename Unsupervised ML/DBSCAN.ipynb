{
 "cells": [
  {
   "cell_type": "code",
   "execution_count": 123,
   "metadata": {},
   "outputs": [],
   "source": [
    "import pandas as pd\n",
    "import numpy as np\n",
    "df = pd.read_csv('/Users/alfahwun/Downloads/Pakistan_Largest_Ecommerce_Dataset.csv')"
   ]
  },
  {
   "cell_type": "code",
   "execution_count": 124,
   "metadata": {},
   "outputs": [
    {
     "data": {
      "text/html": [
       "<div>\n",
       "<style scoped>\n",
       "    .dataframe tbody tr th:only-of-type {\n",
       "        vertical-align: middle;\n",
       "    }\n",
       "\n",
       "    .dataframe tbody tr th {\n",
       "        vertical-align: top;\n",
       "    }\n",
       "\n",
       "    .dataframe thead th {\n",
       "        text-align: right;\n",
       "    }\n",
       "</style>\n",
       "<table border=\"1\" class=\"dataframe\">\n",
       "  <thead>\n",
       "    <tr style=\"text-align: right;\">\n",
       "      <th></th>\n",
       "      <th>item_id</th>\n",
       "      <th>status</th>\n",
       "      <th>created_at</th>\n",
       "      <th>sku</th>\n",
       "      <th>price</th>\n",
       "      <th>qty_ordered</th>\n",
       "      <th>grand_total</th>\n",
       "      <th>increment_id</th>\n",
       "      <th>category_name_1</th>\n",
       "      <th>sales_commission_code</th>\n",
       "      <th>...</th>\n",
       "      <th>Month</th>\n",
       "      <th>Customer Since</th>\n",
       "      <th>M-Y</th>\n",
       "      <th>FY</th>\n",
       "      <th>Customer ID</th>\n",
       "      <th>Unnamed: 21</th>\n",
       "      <th>Unnamed: 22</th>\n",
       "      <th>Unnamed: 23</th>\n",
       "      <th>Unnamed: 24</th>\n",
       "      <th>Unnamed: 25</th>\n",
       "    </tr>\n",
       "  </thead>\n",
       "  <tbody>\n",
       "    <tr>\n",
       "      <th>0</th>\n",
       "      <td>211131</td>\n",
       "      <td>complete</td>\n",
       "      <td>7/1/2016</td>\n",
       "      <td>kreations_YI 06-L</td>\n",
       "      <td>1950.0</td>\n",
       "      <td>1</td>\n",
       "      <td>1950.0</td>\n",
       "      <td>100147443</td>\n",
       "      <td>Women's Fashion</td>\n",
       "      <td>\\N</td>\n",
       "      <td>...</td>\n",
       "      <td>7</td>\n",
       "      <td>2016-7</td>\n",
       "      <td>7-2016</td>\n",
       "      <td>FY17</td>\n",
       "      <td>1</td>\n",
       "      <td>NaN</td>\n",
       "      <td>NaN</td>\n",
       "      <td>NaN</td>\n",
       "      <td>NaN</td>\n",
       "      <td>NaN</td>\n",
       "    </tr>\n",
       "    <tr>\n",
       "      <th>1</th>\n",
       "      <td>211133</td>\n",
       "      <td>canceled</td>\n",
       "      <td>7/1/2016</td>\n",
       "      <td>kcc_Buy 2 Frey Air Freshener &amp; Get 1 Kasual Bo...</td>\n",
       "      <td>240.0</td>\n",
       "      <td>1</td>\n",
       "      <td>240.0</td>\n",
       "      <td>100147444</td>\n",
       "      <td>Beauty &amp; Grooming</td>\n",
       "      <td>\\N</td>\n",
       "      <td>...</td>\n",
       "      <td>7</td>\n",
       "      <td>2016-7</td>\n",
       "      <td>7-2016</td>\n",
       "      <td>FY17</td>\n",
       "      <td>2</td>\n",
       "      <td>NaN</td>\n",
       "      <td>NaN</td>\n",
       "      <td>NaN</td>\n",
       "      <td>NaN</td>\n",
       "      <td>NaN</td>\n",
       "    </tr>\n",
       "    <tr>\n",
       "      <th>2</th>\n",
       "      <td>211134</td>\n",
       "      <td>canceled</td>\n",
       "      <td>7/1/2016</td>\n",
       "      <td>Ego_UP0017-999-MR0</td>\n",
       "      <td>2450.0</td>\n",
       "      <td>1</td>\n",
       "      <td>2450.0</td>\n",
       "      <td>100147445</td>\n",
       "      <td>Women's Fashion</td>\n",
       "      <td>\\N</td>\n",
       "      <td>...</td>\n",
       "      <td>7</td>\n",
       "      <td>2016-7</td>\n",
       "      <td>7-2016</td>\n",
       "      <td>FY17</td>\n",
       "      <td>3</td>\n",
       "      <td>NaN</td>\n",
       "      <td>NaN</td>\n",
       "      <td>NaN</td>\n",
       "      <td>NaN</td>\n",
       "      <td>NaN</td>\n",
       "    </tr>\n",
       "    <tr>\n",
       "      <th>3</th>\n",
       "      <td>211135</td>\n",
       "      <td>complete</td>\n",
       "      <td>7/1/2016</td>\n",
       "      <td>kcc_krone deal</td>\n",
       "      <td>360.0</td>\n",
       "      <td>1</td>\n",
       "      <td>60.0</td>\n",
       "      <td>100147446</td>\n",
       "      <td>Beauty &amp; Grooming</td>\n",
       "      <td>R-FSD-52352</td>\n",
       "      <td>...</td>\n",
       "      <td>7</td>\n",
       "      <td>2016-7</td>\n",
       "      <td>7-2016</td>\n",
       "      <td>FY17</td>\n",
       "      <td>4</td>\n",
       "      <td>NaN</td>\n",
       "      <td>NaN</td>\n",
       "      <td>NaN</td>\n",
       "      <td>NaN</td>\n",
       "      <td>NaN</td>\n",
       "    </tr>\n",
       "    <tr>\n",
       "      <th>4</th>\n",
       "      <td>211136</td>\n",
       "      <td>order_refunded</td>\n",
       "      <td>7/1/2016</td>\n",
       "      <td>BK7010400AG</td>\n",
       "      <td>555.0</td>\n",
       "      <td>2</td>\n",
       "      <td>1110.0</td>\n",
       "      <td>100147447</td>\n",
       "      <td>Soghaat</td>\n",
       "      <td>\\N</td>\n",
       "      <td>...</td>\n",
       "      <td>7</td>\n",
       "      <td>2016-7</td>\n",
       "      <td>7-2016</td>\n",
       "      <td>FY17</td>\n",
       "      <td>5</td>\n",
       "      <td>NaN</td>\n",
       "      <td>NaN</td>\n",
       "      <td>NaN</td>\n",
       "      <td>NaN</td>\n",
       "      <td>NaN</td>\n",
       "    </tr>\n",
       "  </tbody>\n",
       "</table>\n",
       "<p>5 rows × 26 columns</p>\n",
       "</div>"
      ],
      "text/plain": [
       "   item_id          status created_at  \\\n",
       "0   211131        complete   7/1/2016   \n",
       "1   211133        canceled   7/1/2016   \n",
       "2   211134        canceled   7/1/2016   \n",
       "3   211135        complete   7/1/2016   \n",
       "4   211136  order_refunded   7/1/2016   \n",
       "\n",
       "                                                 sku   price  qty_ordered  \\\n",
       "0                                  kreations_YI 06-L  1950.0            1   \n",
       "1  kcc_Buy 2 Frey Air Freshener & Get 1 Kasual Bo...   240.0            1   \n",
       "2                                 Ego_UP0017-999-MR0  2450.0            1   \n",
       "3                                     kcc_krone deal   360.0            1   \n",
       "4                                        BK7010400AG   555.0            2   \n",
       "\n",
       "   grand_total  increment_id    category_name_1 sales_commission_code  ...  \\\n",
       "0       1950.0     100147443    Women's Fashion                    \\N  ...   \n",
       "1        240.0     100147444  Beauty & Grooming                    \\N  ...   \n",
       "2       2450.0     100147445    Women's Fashion                    \\N  ...   \n",
       "3         60.0     100147446  Beauty & Grooming           R-FSD-52352  ...   \n",
       "4       1110.0     100147447            Soghaat                    \\N  ...   \n",
       "\n",
       "   Month Customer Since     M-Y    FY Customer ID  Unnamed: 21  Unnamed: 22  \\\n",
       "0      7         2016-7  7-2016  FY17           1          NaN          NaN   \n",
       "1      7         2016-7  7-2016  FY17           2          NaN          NaN   \n",
       "2      7         2016-7  7-2016  FY17           3          NaN          NaN   \n",
       "3      7         2016-7  7-2016  FY17           4          NaN          NaN   \n",
       "4      7         2016-7  7-2016  FY17           5          NaN          NaN   \n",
       "\n",
       "  Unnamed: 23 Unnamed: 24 Unnamed: 25  \n",
       "0         NaN         NaN         NaN  \n",
       "1         NaN         NaN         NaN  \n",
       "2         NaN         NaN         NaN  \n",
       "3         NaN         NaN         NaN  \n",
       "4         NaN         NaN         NaN  \n",
       "\n",
       "[5 rows x 26 columns]"
      ]
     },
     "execution_count": 124,
     "metadata": {},
     "output_type": "execute_result"
    }
   ],
   "source": [
    "df.head()"
   ]
  },
  {
   "cell_type": "code",
   "execution_count": 125,
   "metadata": {},
   "outputs": [
    {
     "data": {
      "text/html": [
       "<div>\n",
       "<style scoped>\n",
       "    .dataframe tbody tr th:only-of-type {\n",
       "        vertical-align: middle;\n",
       "    }\n",
       "\n",
       "    .dataframe tbody tr th {\n",
       "        vertical-align: top;\n",
       "    }\n",
       "\n",
       "    .dataframe thead th {\n",
       "        text-align: right;\n",
       "    }\n",
       "</style>\n",
       "<table border=\"1\" class=\"dataframe\">\n",
       "  <thead>\n",
       "    <tr style=\"text-align: right;\">\n",
       "      <th></th>\n",
       "      <th>item_id</th>\n",
       "      <th>price</th>\n",
       "      <th>qty_ordered</th>\n",
       "      <th>grand_total</th>\n",
       "      <th>increment_id</th>\n",
       "      <th>discount_amount</th>\n",
       "      <th>Year</th>\n",
       "      <th>Month</th>\n",
       "      <th>Customer ID</th>\n",
       "      <th>Unnamed: 21</th>\n",
       "      <th>Unnamed: 22</th>\n",
       "      <th>Unnamed: 23</th>\n",
       "      <th>Unnamed: 24</th>\n",
       "      <th>Unnamed: 25</th>\n",
       "    </tr>\n",
       "  </thead>\n",
       "  <tbody>\n",
       "    <tr>\n",
       "      <th>count</th>\n",
       "      <td>428.000000</td>\n",
       "      <td>428.000000</td>\n",
       "      <td>428.000000</td>\n",
       "      <td>428.000000</td>\n",
       "      <td>4.280000e+02</td>\n",
       "      <td>428.000000</td>\n",
       "      <td>428.0</td>\n",
       "      <td>428.0</td>\n",
       "      <td>428.000000</td>\n",
       "      <td>0.0</td>\n",
       "      <td>0.0</td>\n",
       "      <td>0.0</td>\n",
       "      <td>0.0</td>\n",
       "      <td>0.0</td>\n",
       "    </tr>\n",
       "    <tr>\n",
       "      <th>mean</th>\n",
       "      <td>211364.719626</td>\n",
       "      <td>1874.460864</td>\n",
       "      <td>1.102804</td>\n",
       "      <td>2257.448014</td>\n",
       "      <td>1.001476e+08</td>\n",
       "      <td>5.841121</td>\n",
       "      <td>2016.0</td>\n",
       "      <td>7.0</td>\n",
       "      <td>54.967290</td>\n",
       "      <td>NaN</td>\n",
       "      <td>NaN</td>\n",
       "      <td>NaN</td>\n",
       "      <td>NaN</td>\n",
       "      <td>NaN</td>\n",
       "    </tr>\n",
       "    <tr>\n",
       "      <th>std</th>\n",
       "      <td>133.392260</td>\n",
       "      <td>8123.742550</td>\n",
       "      <td>0.492274</td>\n",
       "      <td>8347.209712</td>\n",
       "      <td>1.002125e+02</td>\n",
       "      <td>32.732766</td>\n",
       "      <td>0.0</td>\n",
       "      <td>0.0</td>\n",
       "      <td>31.768466</td>\n",
       "      <td>NaN</td>\n",
       "      <td>NaN</td>\n",
       "      <td>NaN</td>\n",
       "      <td>NaN</td>\n",
       "      <td>NaN</td>\n",
       "    </tr>\n",
       "    <tr>\n",
       "      <th>min</th>\n",
       "      <td>211131.000000</td>\n",
       "      <td>1.000000</td>\n",
       "      <td>1.000000</td>\n",
       "      <td>0.000000</td>\n",
       "      <td>1.001474e+08</td>\n",
       "      <td>0.000000</td>\n",
       "      <td>2016.0</td>\n",
       "      <td>7.0</td>\n",
       "      <td>1.000000</td>\n",
       "      <td>NaN</td>\n",
       "      <td>NaN</td>\n",
       "      <td>NaN</td>\n",
       "      <td>NaN</td>\n",
       "      <td>NaN</td>\n",
       "    </tr>\n",
       "    <tr>\n",
       "      <th>25%</th>\n",
       "      <td>211250.750000</td>\n",
       "      <td>300.000000</td>\n",
       "      <td>1.000000</td>\n",
       "      <td>330.000000</td>\n",
       "      <td>1.001475e+08</td>\n",
       "      <td>0.000000</td>\n",
       "      <td>2016.0</td>\n",
       "      <td>7.0</td>\n",
       "      <td>40.750000</td>\n",
       "      <td>NaN</td>\n",
       "      <td>NaN</td>\n",
       "      <td>NaN</td>\n",
       "      <td>NaN</td>\n",
       "      <td>NaN</td>\n",
       "    </tr>\n",
       "    <tr>\n",
       "      <th>50%</th>\n",
       "      <td>211363.500000</td>\n",
       "      <td>360.000000</td>\n",
       "      <td>1.000000</td>\n",
       "      <td>370.500000</td>\n",
       "      <td>1.001476e+08</td>\n",
       "      <td>0.000000</td>\n",
       "      <td>2016.0</td>\n",
       "      <td>7.0</td>\n",
       "      <td>43.000000</td>\n",
       "      <td>NaN</td>\n",
       "      <td>NaN</td>\n",
       "      <td>NaN</td>\n",
       "      <td>NaN</td>\n",
       "      <td>NaN</td>\n",
       "    </tr>\n",
       "    <tr>\n",
       "      <th>75%</th>\n",
       "      <td>211480.500000</td>\n",
       "      <td>760.000000</td>\n",
       "      <td>1.000000</td>\n",
       "      <td>1160.000000</td>\n",
       "      <td>1.001477e+08</td>\n",
       "      <td>0.000000</td>\n",
       "      <td>2016.0</td>\n",
       "      <td>7.0</td>\n",
       "      <td>70.250000</td>\n",
       "      <td>NaN</td>\n",
       "      <td>NaN</td>\n",
       "      <td>NaN</td>\n",
       "      <td>NaN</td>\n",
       "      <td>NaN</td>\n",
       "    </tr>\n",
       "    <tr>\n",
       "      <th>max</th>\n",
       "      <td>211598.000000</td>\n",
       "      <td>96499.000000</td>\n",
       "      <td>6.000000</td>\n",
       "      <td>96499.000000</td>\n",
       "      <td>1.001478e+08</td>\n",
       "      <td>300.000000</td>\n",
       "      <td>2016.0</td>\n",
       "      <td>7.0</td>\n",
       "      <td>136.000000</td>\n",
       "      <td>NaN</td>\n",
       "      <td>NaN</td>\n",
       "      <td>NaN</td>\n",
       "      <td>NaN</td>\n",
       "      <td>NaN</td>\n",
       "    </tr>\n",
       "  </tbody>\n",
       "</table>\n",
       "</div>"
      ],
      "text/plain": [
       "             item_id         price  qty_ordered   grand_total  increment_id  \\\n",
       "count     428.000000    428.000000   428.000000    428.000000  4.280000e+02   \n",
       "mean   211364.719626   1874.460864     1.102804   2257.448014  1.001476e+08   \n",
       "std       133.392260   8123.742550     0.492274   8347.209712  1.002125e+02   \n",
       "min    211131.000000      1.000000     1.000000      0.000000  1.001474e+08   \n",
       "25%    211250.750000    300.000000     1.000000    330.000000  1.001475e+08   \n",
       "50%    211363.500000    360.000000     1.000000    370.500000  1.001476e+08   \n",
       "75%    211480.500000    760.000000     1.000000   1160.000000  1.001477e+08   \n",
       "max    211598.000000  96499.000000     6.000000  96499.000000  1.001478e+08   \n",
       "\n",
       "       discount_amount    Year  Month  Customer ID  Unnamed: 21  Unnamed: 22  \\\n",
       "count       428.000000   428.0  428.0   428.000000          0.0          0.0   \n",
       "mean          5.841121  2016.0    7.0    54.967290          NaN          NaN   \n",
       "std          32.732766     0.0    0.0    31.768466          NaN          NaN   \n",
       "min           0.000000  2016.0    7.0     1.000000          NaN          NaN   \n",
       "25%           0.000000  2016.0    7.0    40.750000          NaN          NaN   \n",
       "50%           0.000000  2016.0    7.0    43.000000          NaN          NaN   \n",
       "75%           0.000000  2016.0    7.0    70.250000          NaN          NaN   \n",
       "max         300.000000  2016.0    7.0   136.000000          NaN          NaN   \n",
       "\n",
       "       Unnamed: 23  Unnamed: 24  Unnamed: 25  \n",
       "count          0.0          0.0          0.0  \n",
       "mean           NaN          NaN          NaN  \n",
       "std            NaN          NaN          NaN  \n",
       "min            NaN          NaN          NaN  \n",
       "25%            NaN          NaN          NaN  \n",
       "50%            NaN          NaN          NaN  \n",
       "75%            NaN          NaN          NaN  \n",
       "max            NaN          NaN          NaN  "
      ]
     },
     "execution_count": 125,
     "metadata": {},
     "output_type": "execute_result"
    }
   ],
   "source": [
    "df.describe()"
   ]
  },
  {
   "cell_type": "code",
   "execution_count": 126,
   "metadata": {},
   "outputs": [
    {
     "data": {
      "text/plain": [
       "(428, 26)"
      ]
     },
     "execution_count": 126,
     "metadata": {},
     "output_type": "execute_result"
    }
   ],
   "source": [
    "df.shape"
   ]
  },
  {
   "cell_type": "code",
   "execution_count": 127,
   "metadata": {},
   "outputs": [
    {
     "data": {
      "text/plain": [
       "item_id                    0\n",
       "status                     0\n",
       "created_at                 0\n",
       "sku                        0\n",
       "price                      0\n",
       "qty_ordered                0\n",
       "grand_total                0\n",
       "increment_id               0\n",
       "category_name_1            0\n",
       "sales_commission_code      0\n",
       "discount_amount            0\n",
       "payment_method             0\n",
       "Working Date               0\n",
       "BI Status                  0\n",
       " MV                        0\n",
       "Year                       0\n",
       "Month                      0\n",
       "Customer Since             0\n",
       "M-Y                        0\n",
       "FY                         0\n",
       "Customer ID                0\n",
       "Unnamed: 21              428\n",
       "Unnamed: 22              428\n",
       "Unnamed: 23              428\n",
       "Unnamed: 24              428\n",
       "Unnamed: 25              428\n",
       "dtype: int64"
      ]
     },
     "execution_count": 127,
     "metadata": {},
     "output_type": "execute_result"
    }
   ],
   "source": [
    "df.isna().sum()"
   ]
  },
  {
   "cell_type": "code",
   "execution_count": 128,
   "metadata": {},
   "outputs": [
    {
     "data": {
      "text/plain": [
       "Index(['item_id', 'status', 'created_at', 'sku', 'price', 'qty_ordered',\n",
       "       'grand_total', 'increment_id', 'category_name_1',\n",
       "       'sales_commission_code', 'discount_amount', 'payment_method',\n",
       "       'Working Date', 'BI Status', ' MV ', 'Year', 'Month', 'Customer Since',\n",
       "       'M-Y', 'FY', 'Customer ID', 'Unnamed: 21', 'Unnamed: 22', 'Unnamed: 23',\n",
       "       'Unnamed: 24', 'Unnamed: 25'],\n",
       "      dtype='object')"
      ]
     },
     "execution_count": 128,
     "metadata": {},
     "output_type": "execute_result"
    }
   ],
   "source": [
    "df.columns"
   ]
  },
  {
   "cell_type": "code",
   "execution_count": 129,
   "metadata": {},
   "outputs": [],
   "source": [
    "df = df[['item_id', 'status', 'price', 'qty_ordered','grand_total','category_name_1', 'discount_amount', \\\n",
    "    'payment_method', 'BI Status']]"
   ]
  },
  {
   "cell_type": "code",
   "execution_count": 130,
   "metadata": {},
   "outputs": [
    {
     "data": {
      "text/html": [
       "<div>\n",
       "<style scoped>\n",
       "    .dataframe tbody tr th:only-of-type {\n",
       "        vertical-align: middle;\n",
       "    }\n",
       "\n",
       "    .dataframe tbody tr th {\n",
       "        vertical-align: top;\n",
       "    }\n",
       "\n",
       "    .dataframe thead th {\n",
       "        text-align: right;\n",
       "    }\n",
       "</style>\n",
       "<table border=\"1\" class=\"dataframe\">\n",
       "  <thead>\n",
       "    <tr style=\"text-align: right;\">\n",
       "      <th></th>\n",
       "      <th>item_id</th>\n",
       "      <th>status</th>\n",
       "      <th>price</th>\n",
       "      <th>qty_ordered</th>\n",
       "      <th>grand_total</th>\n",
       "      <th>category_name_1</th>\n",
       "      <th>discount_amount</th>\n",
       "      <th>payment_method</th>\n",
       "      <th>BI Status</th>\n",
       "    </tr>\n",
       "  </thead>\n",
       "  <tbody>\n",
       "    <tr>\n",
       "      <th>0</th>\n",
       "      <td>211131</td>\n",
       "      <td>complete</td>\n",
       "      <td>1950.0</td>\n",
       "      <td>1</td>\n",
       "      <td>1950.0</td>\n",
       "      <td>Women's Fashion</td>\n",
       "      <td>0.0</td>\n",
       "      <td>cod</td>\n",
       "      <td>#REF!</td>\n",
       "    </tr>\n",
       "    <tr>\n",
       "      <th>1</th>\n",
       "      <td>211133</td>\n",
       "      <td>canceled</td>\n",
       "      <td>240.0</td>\n",
       "      <td>1</td>\n",
       "      <td>240.0</td>\n",
       "      <td>Beauty &amp; Grooming</td>\n",
       "      <td>0.0</td>\n",
       "      <td>cod</td>\n",
       "      <td>Gross</td>\n",
       "    </tr>\n",
       "    <tr>\n",
       "      <th>2</th>\n",
       "      <td>211134</td>\n",
       "      <td>canceled</td>\n",
       "      <td>2450.0</td>\n",
       "      <td>1</td>\n",
       "      <td>2450.0</td>\n",
       "      <td>Women's Fashion</td>\n",
       "      <td>0.0</td>\n",
       "      <td>cod</td>\n",
       "      <td>Gross</td>\n",
       "    </tr>\n",
       "    <tr>\n",
       "      <th>3</th>\n",
       "      <td>211135</td>\n",
       "      <td>complete</td>\n",
       "      <td>360.0</td>\n",
       "      <td>1</td>\n",
       "      <td>60.0</td>\n",
       "      <td>Beauty &amp; Grooming</td>\n",
       "      <td>300.0</td>\n",
       "      <td>cod</td>\n",
       "      <td>Net</td>\n",
       "    </tr>\n",
       "    <tr>\n",
       "      <th>4</th>\n",
       "      <td>211136</td>\n",
       "      <td>order_refunded</td>\n",
       "      <td>555.0</td>\n",
       "      <td>2</td>\n",
       "      <td>1110.0</td>\n",
       "      <td>Soghaat</td>\n",
       "      <td>0.0</td>\n",
       "      <td>cod</td>\n",
       "      <td>Valid</td>\n",
       "    </tr>\n",
       "  </tbody>\n",
       "</table>\n",
       "</div>"
      ],
      "text/plain": [
       "   item_id          status   price  qty_ordered  grand_total  \\\n",
       "0   211131        complete  1950.0            1       1950.0   \n",
       "1   211133        canceled   240.0            1        240.0   \n",
       "2   211134        canceled  2450.0            1       2450.0   \n",
       "3   211135        complete   360.0            1         60.0   \n",
       "4   211136  order_refunded   555.0            2       1110.0   \n",
       "\n",
       "     category_name_1  discount_amount payment_method BI Status  \n",
       "0    Women's Fashion              0.0            cod     #REF!  \n",
       "1  Beauty & Grooming              0.0            cod     Gross  \n",
       "2    Women's Fashion              0.0            cod     Gross  \n",
       "3  Beauty & Grooming            300.0            cod       Net  \n",
       "4            Soghaat              0.0            cod     Valid  "
      ]
     },
     "execution_count": 130,
     "metadata": {},
     "output_type": "execute_result"
    }
   ],
   "source": [
    "df.head()"
   ]
  },
  {
   "cell_type": "code",
   "execution_count": 131,
   "metadata": {},
   "outputs": [],
   "source": [
    "#df.loc[df['BI Status']=='#REF!']['BI Status']=df['BI Status'].mode()[0]"
   ]
  },
  {
   "cell_type": "code",
   "execution_count": 132,
   "metadata": {},
   "outputs": [],
   "source": [
    "df.loc[0,'BI Status']= df['BI Status'].mode()[0]"
   ]
  },
  {
   "cell_type": "code",
   "execution_count": 133,
   "metadata": {},
   "outputs": [
    {
     "data": {
      "text/html": [
       "<div>\n",
       "<style scoped>\n",
       "    .dataframe tbody tr th:only-of-type {\n",
       "        vertical-align: middle;\n",
       "    }\n",
       "\n",
       "    .dataframe tbody tr th {\n",
       "        vertical-align: top;\n",
       "    }\n",
       "\n",
       "    .dataframe thead th {\n",
       "        text-align: right;\n",
       "    }\n",
       "</style>\n",
       "<table border=\"1\" class=\"dataframe\">\n",
       "  <thead>\n",
       "    <tr style=\"text-align: right;\">\n",
       "      <th></th>\n",
       "      <th>item_id</th>\n",
       "      <th>status</th>\n",
       "      <th>price</th>\n",
       "      <th>qty_ordered</th>\n",
       "      <th>grand_total</th>\n",
       "      <th>category_name_1</th>\n",
       "      <th>discount_amount</th>\n",
       "      <th>payment_method</th>\n",
       "      <th>BI Status</th>\n",
       "    </tr>\n",
       "  </thead>\n",
       "  <tbody>\n",
       "    <tr>\n",
       "      <th>0</th>\n",
       "      <td>211131</td>\n",
       "      <td>complete</td>\n",
       "      <td>1950.0</td>\n",
       "      <td>1</td>\n",
       "      <td>1950.0</td>\n",
       "      <td>Women's Fashion</td>\n",
       "      <td>0.0</td>\n",
       "      <td>cod</td>\n",
       "      <td>Net</td>\n",
       "    </tr>\n",
       "    <tr>\n",
       "      <th>1</th>\n",
       "      <td>211133</td>\n",
       "      <td>canceled</td>\n",
       "      <td>240.0</td>\n",
       "      <td>1</td>\n",
       "      <td>240.0</td>\n",
       "      <td>Beauty &amp; Grooming</td>\n",
       "      <td>0.0</td>\n",
       "      <td>cod</td>\n",
       "      <td>Gross</td>\n",
       "    </tr>\n",
       "    <tr>\n",
       "      <th>2</th>\n",
       "      <td>211134</td>\n",
       "      <td>canceled</td>\n",
       "      <td>2450.0</td>\n",
       "      <td>1</td>\n",
       "      <td>2450.0</td>\n",
       "      <td>Women's Fashion</td>\n",
       "      <td>0.0</td>\n",
       "      <td>cod</td>\n",
       "      <td>Gross</td>\n",
       "    </tr>\n",
       "    <tr>\n",
       "      <th>3</th>\n",
       "      <td>211135</td>\n",
       "      <td>complete</td>\n",
       "      <td>360.0</td>\n",
       "      <td>1</td>\n",
       "      <td>60.0</td>\n",
       "      <td>Beauty &amp; Grooming</td>\n",
       "      <td>300.0</td>\n",
       "      <td>cod</td>\n",
       "      <td>Net</td>\n",
       "    </tr>\n",
       "    <tr>\n",
       "      <th>4</th>\n",
       "      <td>211136</td>\n",
       "      <td>order_refunded</td>\n",
       "      <td>555.0</td>\n",
       "      <td>2</td>\n",
       "      <td>1110.0</td>\n",
       "      <td>Soghaat</td>\n",
       "      <td>0.0</td>\n",
       "      <td>cod</td>\n",
       "      <td>Valid</td>\n",
       "    </tr>\n",
       "  </tbody>\n",
       "</table>\n",
       "</div>"
      ],
      "text/plain": [
       "   item_id          status   price  qty_ordered  grand_total  \\\n",
       "0   211131        complete  1950.0            1       1950.0   \n",
       "1   211133        canceled   240.0            1        240.0   \n",
       "2   211134        canceled  2450.0            1       2450.0   \n",
       "3   211135        complete   360.0            1         60.0   \n",
       "4   211136  order_refunded   555.0            2       1110.0   \n",
       "\n",
       "     category_name_1  discount_amount payment_method BI Status  \n",
       "0    Women's Fashion              0.0            cod       Net  \n",
       "1  Beauty & Grooming              0.0            cod     Gross  \n",
       "2    Women's Fashion              0.0            cod     Gross  \n",
       "3  Beauty & Grooming            300.0            cod       Net  \n",
       "4            Soghaat              0.0            cod     Valid  "
      ]
     },
     "execution_count": 133,
     "metadata": {},
     "output_type": "execute_result"
    }
   ],
   "source": [
    "df.head()"
   ]
  },
  {
   "cell_type": "code",
   "execution_count": 134,
   "metadata": {},
   "outputs": [
    {
     "data": {
      "text/plain": [
       "item_id              int64\n",
       "status              object\n",
       "price              float64\n",
       "qty_ordered          int64\n",
       "grand_total        float64\n",
       "category_name_1     object\n",
       "discount_amount    float64\n",
       "payment_method      object\n",
       "BI Status           object\n",
       "dtype: object"
      ]
     },
     "execution_count": 134,
     "metadata": {},
     "output_type": "execute_result"
    }
   ],
   "source": [
    "df.dtypes"
   ]
  },
  {
   "cell_type": "code",
   "execution_count": 135,
   "metadata": {},
   "outputs": [],
   "source": [
    "df['MV']=pd.Series(df['price']*df['qty_ordered'])"
   ]
  },
  {
   "cell_type": "code",
   "execution_count": 136,
   "metadata": {},
   "outputs": [
    {
     "data": {
      "text/plain": [
       "item_id              int64\n",
       "status              object\n",
       "price              float64\n",
       "qty_ordered          int64\n",
       "grand_total        float64\n",
       "category_name_1     object\n",
       "discount_amount    float64\n",
       "payment_method      object\n",
       "BI Status           object\n",
       "MV                 float64\n",
       "dtype: object"
      ]
     },
     "execution_count": 136,
     "metadata": {},
     "output_type": "execute_result"
    }
   ],
   "source": [
    "df.dtypes"
   ]
  },
  {
   "cell_type": "code",
   "execution_count": 137,
   "metadata": {},
   "outputs": [],
   "source": [
    "from sklearn.preprocessing import LabelEncoder"
   ]
  },
  {
   "cell_type": "code",
   "execution_count": 138,
   "metadata": {},
   "outputs": [],
   "source": [
    "encoder=LabelEncoder()\n",
    "def feature_encoder(*labels):\n",
    "  for label in labels:\n",
    "    df[label] = encoder.fit_transform(df[label])\n",
    "    print(f\"{label} is encoded.\")"
   ]
  },
  {
   "cell_type": "code",
   "execution_count": 139,
   "metadata": {},
   "outputs": [
    {
     "name": "stdout",
     "output_type": "stream",
     "text": [
      "category_name_1 is encoded.\n",
      "payment_method is encoded.\n",
      "BI Status is encoded.\n",
      "status is encoded.\n"
     ]
    }
   ],
   "source": [
    "feature_encoder('category_name_1','payment_method','BI Status','status')"
   ]
  },
  {
   "cell_type": "code",
   "execution_count": 140,
   "metadata": {},
   "outputs": [
    {
     "data": {
      "text/plain": [
       "item_id              int64\n",
       "status               int64\n",
       "price              float64\n",
       "qty_ordered          int64\n",
       "grand_total        float64\n",
       "category_name_1      int64\n",
       "discount_amount    float64\n",
       "payment_method       int64\n",
       "BI Status            int64\n",
       "MV                 float64\n",
       "dtype: object"
      ]
     },
     "execution_count": 140,
     "metadata": {},
     "output_type": "execute_result"
    }
   ],
   "source": [
    "df.dtypes"
   ]
  },
  {
   "cell_type": "code",
   "execution_count": 141,
   "metadata": {},
   "outputs": [],
   "source": [
    "#standarizing the dataset\n",
    "from sklearn.preprocessing import StandardScaler\n",
    "df1= StandardScaler().fit_transform(df)"
   ]
  },
  {
   "cell_type": "code",
   "execution_count": 150,
   "metadata": {},
   "outputs": [],
   "source": [
    "from sklearn.cluster import KMeans\n"
   ]
  },
  {
   "cell_type": "code",
   "execution_count": 178,
   "metadata": {},
   "outputs": [
    {
     "data": {
      "image/png": "[encoded data removed]",
      "text/plain": [
       "<Figure size 600x600 with 1 Axes>"
      ]
     },
     "metadata": {},
     "output_type": "display_data"
    }
   ],
   "source": [
    "import matplotlib.pyplot as plt\n",
    "\n",
    "sse = []\n",
    "list_k = list(range(1, 10))\n",
    "# Sélectionnez les variables pertinentes\n",
    "\n",
    "for k in list_k:\n",
    "    model = KMeans(n_init =10,n_clusters=k)\n",
    "    model.fit(df1)\n",
    "\n",
    "    # Calculer la somme des distances des points au centroïde de leur cluster\n",
    "    labels = model.labels_\n",
    "    distances = np.zeros(df1.shape[0])\n",
    "    for i in range(df1.shape[0]):\n",
    "        distances[i] = np.linalg.norm(df1[i] - np.mean(df1[labels == labels[i]], axis=0))\n",
    "    sse.append(np.sum(distances))\n",
    "\n",
    "plt.figure(figsize=(6, 6))\n",
    "plt.plot(list_k, sse, '-o')\n",
    "plt.xlabel(r'Number of clusters k')\n",
    "plt.ylabel('Sum of squared distance')\n",
    "plt.show()\n"
   ]
  },
  {
   "cell_type": "code",
   "execution_count": 187,
   "metadata": {},
   "outputs": [
    {
     "name": "stderr",
     "output_type": "stream",
     "text": [
      "/Users/alfahwun/miniconda3/lib/python3.10/site-packages/sklearn/cluster/_kmeans.py:870: FutureWarning: The default value of `n_init` will change from 10 to 'auto' in 1.4. Set the value of `n_init` explicitly to suppress the warning\n",
      "  warnings.warn(\n",
      "/Users/alfahwun/miniconda3/lib/python3.10/site-packages/sklearn/cluster/_kmeans.py:870: FutureWarning: The default value of `n_init` will change from 10 to 'auto' in 1.4. Set the value of `n_init` explicitly to suppress the warning\n",
      "  warnings.warn(\n",
      "/Users/alfahwun/miniconda3/lib/python3.10/site-packages/sklearn/cluster/_kmeans.py:870: FutureWarning: The default value of `n_init` will change from 10 to 'auto' in 1.4. Set the value of `n_init` explicitly to suppress the warning\n",
      "  warnings.warn(\n",
      "/Users/alfahwun/miniconda3/lib/python3.10/site-packages/sklearn/cluster/_kmeans.py:870: FutureWarning: The default value of `n_init` will change from 10 to 'auto' in 1.4. Set the value of `n_init` explicitly to suppress the warning\n",
      "  warnings.warn(\n",
      "/Users/alfahwun/miniconda3/lib/python3.10/site-packages/sklearn/cluster/_kmeans.py:870: FutureWarning: The default value of `n_init` will change from 10 to 'auto' in 1.4. Set the value of `n_init` explicitly to suppress the warning\n",
      "  warnings.warn(\n",
      "/Users/alfahwun/miniconda3/lib/python3.10/site-packages/sklearn/cluster/_kmeans.py:870: FutureWarning: The default value of `n_init` will change from 10 to 'auto' in 1.4. Set the value of `n_init` explicitly to suppress the warning\n",
      "  warnings.warn(\n",
      "/Users/alfahwun/miniconda3/lib/python3.10/site-packages/sklearn/cluster/_kmeans.py:870: FutureWarning: The default value of `n_init` will change from 10 to 'auto' in 1.4. Set the value of `n_init` explicitly to suppress the warning\n",
      "  warnings.warn(\n",
      "/Users/alfahwun/miniconda3/lib/python3.10/site-packages/sklearn/cluster/_kmeans.py:870: FutureWarning: The default value of `n_init` will change from 10 to 'auto' in 1.4. Set the value of `n_init` explicitly to suppress the warning\n",
      "  warnings.warn(\n",
      "/Users/alfahwun/miniconda3/lib/python3.10/site-packages/sklearn/cluster/_kmeans.py:870: FutureWarning: The default value of `n_init` will change from 10 to 'auto' in 1.4. Set the value of `n_init` explicitly to suppress the warning\n",
      "  warnings.warn(\n",
      "/Users/alfahwun/miniconda3/lib/python3.10/site-packages/sklearn/cluster/_kmeans.py:870: FutureWarning: The default value of `n_init` will change from 10 to 'auto' in 1.4. Set the value of `n_init` explicitly to suppress the warning\n",
      "  warnings.warn(\n",
      "/Users/alfahwun/miniconda3/lib/python3.10/site-packages/sklearn/cluster/_kmeans.py:870: FutureWarning: The default value of `n_init` will change from 10 to 'auto' in 1.4. Set the value of `n_init` explicitly to suppress the warning\n",
      "  warnings.warn(\n",
      "/Users/alfahwun/miniconda3/lib/python3.10/site-packages/sklearn/cluster/_kmeans.py:870: FutureWarning: The default value of `n_init` will change from 10 to 'auto' in 1.4. Set the value of `n_init` explicitly to suppress the warning\n",
      "  warnings.warn(\n",
      "/Users/alfahwun/miniconda3/lib/python3.10/site-packages/sklearn/cluster/_kmeans.py:870: FutureWarning: The default value of `n_init` will change from 10 to 'auto' in 1.4. Set the value of `n_init` explicitly to suppress the warning\n",
      "  warnings.warn(\n",
      "/Users/alfahwun/miniconda3/lib/python3.10/site-packages/sklearn/cluster/_kmeans.py:870: FutureWarning: The default value of `n_init` will change from 10 to 'auto' in 1.4. Set the value of `n_init` explicitly to suppress the warning\n",
      "  warnings.warn(\n",
      "/Users/alfahwun/miniconda3/lib/python3.10/site-packages/sklearn/cluster/_kmeans.py:870: FutureWarning: The default value of `n_init` will change from 10 to 'auto' in 1.4. Set the value of `n_init` explicitly to suppress the warning\n",
      "  warnings.warn(\n",
      "/Users/alfahwun/miniconda3/lib/python3.10/site-packages/sklearn/cluster/_kmeans.py:870: FutureWarning: The default value of `n_init` will change from 10 to 'auto' in 1.4. Set the value of `n_init` explicitly to suppress the warning\n",
      "  warnings.warn(\n",
      "/Users/alfahwun/miniconda3/lib/python3.10/site-packages/sklearn/cluster/_kmeans.py:870: FutureWarning: The default value of `n_init` will change from 10 to 'auto' in 1.4. Set the value of `n_init` explicitly to suppress the warning\n",
      "  warnings.warn(\n",
      "/Users/alfahwun/miniconda3/lib/python3.10/site-packages/sklearn/cluster/_kmeans.py:870: FutureWarning: The default value of `n_init` will change from 10 to 'auto' in 1.4. Set the value of `n_init` explicitly to suppress the warning\n",
      "  warnings.warn(\n",
      "/Users/alfahwun/miniconda3/lib/python3.10/site-packages/sklearn/cluster/_kmeans.py:870: FutureWarning: The default value of `n_init` will change from 10 to 'auto' in 1.4. Set the value of `n_init` explicitly to suppress the warning\n",
      "  warnings.warn(\n"
     ]
    },
    {
     "data": {
      "text/plain": [
       "Text(0, 0.5, 'SSE')"
      ]
     },
     "execution_count": 187,
     "metadata": {},
     "output_type": "execute_result"
    },
    {
     "data": {
      "image/png": "[encoded data removed]",
      "text/plain": [
       "<Figure size 1200x600 with 1 Axes>"
      ]
     },
     "metadata": {},
     "output_type": "display_data"
    }
   ],
   "source": [
    "# Déterminer le nombre optimal de clusters à l'aide de l'analyse en boucle\n",
    "SSE = []\n",
    "for cluster in range(1, 20):\n",
    "    kmeans = KMeans(n_clusters=cluster, max_iter=50)\n",
    "    kmeans.fit(df1)\n",
    "    SSE.append(kmeans.inertia_)\n",
    "\n",
    "# Convertir la liste en un DataFrame pour la visualisation\n",
    "frame = pd.DataFrame({'Cluster':range(1,20), 'SSE':SSE})\n",
    "\n",
    "# Tracer le graphique des SSE pour chaque nombre de clusters\n",
    "plt.figure(figsize=(12,6))\n",
    "plt.plot(frame['Cluster'], frame['SSE'], marker='o')\n",
    "plt.xlabel('Nombre de clusters')\n",
    "plt.ylabel('SSE')\n"
   ]
  },
  {
   "cell_type": "code",
   "execution_count": 188,
   "metadata": {},
   "outputs": [
    {
     "data": {
      "text/plain": [
       "0    176\n",
       "7    136\n",
       "2     73\n",
       "6     18\n",
       "5     10\n",
       "4      7\n",
       "3      6\n",
       "1      2\n",
       "dtype: int64"
      ]
     },
     "execution_count": 188,
     "metadata": {},
     "output_type": "execute_result"
    }
   ],
   "source": [
    "from sklearn.cluster import KMeans\n",
    "\n",
    "# Perform K-Means clustering\n",
    "kmeans = KMeans(n_init=10,n_clusters=8)\n",
    "kmeans=kmeans.fit(df1)\n",
    "labels = kmeans.labels_\n",
    "len(pd.Series(labels).value_counts())\n",
    "\n",
    "pd.Series(labels).value_counts()"
   ]
  },
  {
   "cell_type": "code",
   "execution_count": 165,
   "metadata": {},
   "outputs": [],
   "source": [
    "from sklearn.cluster import DBSCAN\n"
   ]
  },
  {
   "cell_type": "code",
   "execution_count": 143,
   "metadata": {},
   "outputs": [
    {
     "name": "stdout",
     "output_type": "stream",
     "text": [
      "Silhouette Coefficient for eps and min_samples 0.1 3 0.008562699516741441 22\n",
      "Silhouette Coefficient for eps and min_samples 0.1 4 -0.018847813782281505 11\n",
      "Silhouette Coefficient for eps and min_samples 0.1 5 0.03149762784160271 7\n",
      "Silhouette Coefficient for eps and min_samples 0.1 6 0.03149762784160271 7\n",
      "Silhouette Coefficient for eps and min_samples 0.2 3 -0.09418122393307123 22\n",
      "Silhouette Coefficient for eps and min_samples 0.2 4 -0.0863643944696461 9\n",
      "Silhouette Coefficient for eps and min_samples 0.2 5 0.03280563867096968 8\n",
      "Silhouette Coefficient for eps and min_samples 0.2 6 0.047799209906376386 6\n",
      "Silhouette Coefficient for eps and min_samples 0.30000000000000004 3 0.16478633116416186 24\n",
      "Silhouette Coefficient for eps and min_samples 0.30000000000000004 4 0.10289563118866331 14\n",
      "Silhouette Coefficient for eps and min_samples 0.30000000000000004 5 0.0767285424271593 9\n",
      "Silhouette Coefficient for eps and min_samples 0.30000000000000004 6 0.0564449009977585 6\n",
      "Silhouette Coefficient for eps and min_samples 0.4 3 0.17080996268570667 29\n",
      "Silhouette Coefficient for eps and min_samples 0.4 4 0.1048262528521129 16\n",
      "Silhouette Coefficient for eps and min_samples 0.4 5 0.11063961175179189 11\n",
      "Silhouette Coefficient for eps and min_samples 0.4 6 0.08704371054548368 7\n",
      "Silhouette Coefficient for eps and min_samples 0.5 3 0.22257329271600684 27\n",
      "Silhouette Coefficient for eps and min_samples 0.5 4 0.1471783266098106 16\n",
      "Silhouette Coefficient for eps and min_samples 0.5 5 0.14337985042143436 12\n",
      "Silhouette Coefficient for eps and min_samples 0.5 6 0.09761314386725167 6\n",
      "Silhouette Coefficient for eps and min_samples 0.6000000000000001 3 0.22195078260910653 25\n",
      "Silhouette Coefficient for eps and min_samples 0.6000000000000001 4 0.17774954848516733 18\n",
      "Silhouette Coefficient for eps and min_samples 0.6000000000000001 5 0.1808567334187765 15\n",
      "Silhouette Coefficient for eps and min_samples 0.6000000000000001 6 0.11722032924381892 9\n",
      "Silhouette Coefficient for eps and min_samples 0.7000000000000001 3 0.12478386872017187 21\n",
      "Silhouette Coefficient for eps and min_samples 0.7000000000000001 4 0.09802902951032987 15\n",
      "Silhouette Coefficient for eps and min_samples 0.7000000000000001 5 0.1060691907151862 13\n",
      "Silhouette Coefficient for eps and min_samples 0.7000000000000001 6 0.07762978325544198 9\n",
      "Silhouette Coefficient for eps and min_samples 0.8 3 0.09323938404874083 18\n",
      "Silhouette Coefficient for eps and min_samples 0.8 4 0.06589707655684324 14\n",
      "Silhouette Coefficient for eps and min_samples 0.8 5 0.07581456262719051 14\n",
      "Silhouette Coefficient for eps and min_samples 0.8 6 0.06556076753330835 9\n",
      "Silhouette Coefficient for eps and min_samples 0.9 3 0.14220424423326292 15\n",
      "Silhouette Coefficient for eps and min_samples 0.9 4 0.17335338034172923 10\n",
      "Silhouette Coefficient for eps and min_samples 0.9 5 0.18391521369633512 9\n",
      "Silhouette Coefficient for eps and min_samples 0.9 6 0.19433809216951606 7\n"
     ]
    }
   ],
   "source": [
    "from sklearn.metrics import silhouette_score\n",
    "eps=np.arange(0.1,1,0.1)\n",
    "min_samples=np.arange(3,7,1)\n",
    "for ep in eps:\n",
    "    for mns in min_samples:\n",
    "        dbs=DBSCAN(eps=ep, min_samples=mns)\n",
    "        dbs.fit(df1)\n",
    "        print(\"Silhouette Coefficient for eps and min_samples\",ep,mns,silhouette_score(df1, dbs.labels_),len(pd.Series(dbs.labels_).value_counts()))"
   ]
  },
  {
   "cell_type": "code",
   "execution_count": 182,
   "metadata": {},
   "outputs": [
    {
     "data": {
      "text/html": [
       "<style>#sk-container-id-3 {color: black;background-color: white;}#sk-container-id-3 pre{padding: 0;}#sk-container-id-3 div.sk-toggleable {background-color: white;}#sk-container-id-3 label.sk-toggleable__label {cursor: pointer;display: block;width: 100%;margin-bottom: 0;padding: 0.3em;box-sizing: border-box;text-align: center;}#sk-container-id-3 label.sk-toggleable__label-arrow:before {content: \"▸\";float: left;margin-right: 0.25em;color: #696969;}#sk-container-id-3 label.sk-toggleable__label-arrow:hover:before {color: black;}#sk-container-id-3 div.sk-estimator:hover label.sk-toggleable__label-arrow:before {color: black;}#sk-container-id-3 div.sk-toggleable__content {max-height: 0;max-width: 0;overflow: hidden;text-align: left;background-color: #f0f8ff;}#sk-container-id-3 div.sk-toggleable__content pre {margin: 0.2em;color: black;border-radius: 0.25em;background-color: #f0f8ff;}#sk-container-id-3 input.sk-toggleable__control:checked~div.sk-toggleable__content {max-height: 200px;max-width: 100%;overflow: auto;}#sk-container-id-3 input.sk-toggleable__control:checked~label.sk-toggleable__label-arrow:before {content: \"▾\";}#sk-container-id-3 div.sk-estimator input.sk-toggleable__control:checked~label.sk-toggleable__label {background-color: #d4ebff;}#sk-container-id-3 div.sk-label input.sk-toggleable__control:checked~label.sk-toggleable__label {background-color: #d4ebff;}#sk-container-id-3 input.sk-hidden--visually {border: 0;clip: rect(1px 1px 1px 1px);clip: rect(1px, 1px, 1px, 1px);height: 1px;margin: -1px;overflow: hidden;padding: 0;position: absolute;width: 1px;}#sk-container-id-3 div.sk-estimator {font-family: monospace;background-color: #f0f8ff;border: 1px dotted black;border-radius: 0.25em;box-sizing: border-box;margin-bottom: 0.5em;}#sk-container-id-3 div.sk-estimator:hover {background-color: #d4ebff;}#sk-container-id-3 div.sk-parallel-item::after {content: \"\";width: 100%;border-bottom: 1px solid gray;flex-grow: 1;}#sk-container-id-3 div.sk-label:hover label.sk-toggleable__label {background-color: #d4ebff;}#sk-container-id-3 div.sk-serial::before {content: \"\";position: absolute;border-left: 1px solid gray;box-sizing: border-box;top: 0;bottom: 0;left: 50%;z-index: 0;}#sk-container-id-3 div.sk-serial {display: flex;flex-direction: column;align-items: center;background-color: white;padding-right: 0.2em;padding-left: 0.2em;position: relative;}#sk-container-id-3 div.sk-item {position: relative;z-index: 1;}#sk-container-id-3 div.sk-parallel {display: flex;align-items: stretch;justify-content: center;background-color: white;position: relative;}#sk-container-id-3 div.sk-item::before, #sk-container-id-3 div.sk-parallel-item::before {content: \"\";position: absolute;border-left: 1px solid gray;box-sizing: border-box;top: 0;bottom: 0;left: 50%;z-index: -1;}#sk-container-id-3 div.sk-parallel-item {display: flex;flex-direction: column;z-index: 1;position: relative;background-color: white;}#sk-container-id-3 div.sk-parallel-item:first-child::after {align-self: flex-end;width: 50%;}#sk-container-id-3 div.sk-parallel-item:last-child::after {align-self: flex-start;width: 50%;}#sk-container-id-3 div.sk-parallel-item:only-child::after {width: 0;}#sk-container-id-3 div.sk-dashed-wrapped {border: 1px dashed gray;margin: 0 0.4em 0.5em 0.4em;box-sizing: border-box;padding-bottom: 0.4em;background-color: white;}#sk-container-id-3 div.sk-label label {font-family: monospace;font-weight: bold;display: inline-block;line-height: 1.2em;}#sk-container-id-3 div.sk-label-container {text-align: center;}#sk-container-id-3 div.sk-container {/* jupyter's `normalize.less` sets `[hidden] { display: none; }` but bootstrap.min.css set `[hidden] { display: none !important; }` so we also need the `!important` here to be able to override the default hidden behavior on the sphinx rendered scikit-learn.org. See: https://github.com/scikit-learn/scikit-learn/issues/21755 */display: inline-block !important;position: relative;}#sk-container-id-3 div.sk-text-repr-fallback {display: none;}</style><div id=\"sk-container-id-3\" class=\"sk-top-container\"><div class=\"sk-text-repr-fallback\"><pre>DBSCAN(eps=0.9, min_samples=6)</pre><b>In a Jupyter environment, please rerun this cell to show the HTML representation or trust the notebook. <br />On GitHub, the HTML representation is unable to render, please try loading this page with nbviewer.org.</b></div><div class=\"sk-container\" hidden><div class=\"sk-item\"><div class=\"sk-estimator sk-toggleable\"><input class=\"sk-toggleable__control sk-hidden--visually\" id=\"sk-estimator-id-3\" type=\"checkbox\" checked><label for=\"sk-estimator-id-3\" class=\"sk-toggleable__label sk-toggleable__label-arrow\">DBSCAN</label><div class=\"sk-toggleable__content\"><pre>DBSCAN(eps=0.9, min_samples=6)</pre></div></div></div></div></div>"
      ],
      "text/plain": [
       "DBSCAN(eps=0.9, min_samples=6)"
      ]
     },
     "execution_count": 182,
     "metadata": {},
     "output_type": "execute_result"
    }
   ],
   "source": [
    "dbs=DBSCAN(eps=0.9, min_samples=6)\n",
    "dbs.fit(df1)"
   ]
  },
  {
   "cell_type": "code",
   "execution_count": 179,
   "metadata": {},
   "outputs": [],
   "source": [
    "from sklearn.metrics import mean_squared_error"
   ]
  },
  {
   "cell_type": "code",
   "execution_count": 189,
   "metadata": {},
   "outputs": [
    {
     "data": {
      "text/plain": [
       "19.25"
      ]
     },
     "execution_count": 189,
     "metadata": {},
     "output_type": "execute_result"
    }
   ],
   "source": [
    "mse = mean_squared_error(dbs.labels_ , kmeans.labels_)  \n",
    "mse"
   ]
  },
  {
   "cell_type": "code",
   "execution_count": 175,
   "metadata": {},
   "outputs": [
    {
     "data": {
      "text/plain": [
       "array([-0.20907863, -0.20907863, -0.20907863, -0.20907863,  1.82468621,\n",
       "       -0.20907863, -0.20907863, -0.20907863, -0.20907863, -0.20907863,\n",
       "       -0.20907863, -0.20907863, -0.20907863, -0.20907863, -0.20907863,\n",
       "       -0.20907863, -0.20907863, -0.20907863, -0.20907863, -0.20907863,\n",
       "       -0.20907863, -0.20907863, -0.20907863, -0.20907863, -0.20907863,\n",
       "       -0.20907863, -0.20907863, -0.20907863,  7.92598073,  1.82468621,\n",
       "       -0.20907863, -0.20907863, -0.20907863, -0.20907863, -0.20907863,\n",
       "       -0.20907863, -0.20907863, -0.20907863, -0.20907863, -0.20907863,\n",
       "       -0.20907863, -0.20907863, -0.20907863, -0.20907863, -0.20907863,\n",
       "       -0.20907863, -0.20907863, -0.20907863,  1.82468621,  1.82468621,\n",
       "        1.82468621, -0.20907863, -0.20907863, -0.20907863, -0.20907863,\n",
       "       -0.20907863, -0.20907863, -0.20907863, -0.20907863, -0.20907863,\n",
       "       -0.20907863, -0.20907863,  1.82468621, -0.20907863,  3.85845105,\n",
       "        1.82468621, -0.20907863, -0.20907863, -0.20907863, -0.20907863,\n",
       "       -0.20907863, -0.20907863, -0.20907863, -0.20907863, -0.20907863,\n",
       "       -0.20907863, -0.20907863, -0.20907863, -0.20907863,  7.92598073,\n",
       "        1.82468621, -0.20907863, -0.20907863, -0.20907863, -0.20907863,\n",
       "       -0.20907863, -0.20907863, -0.20907863, -0.20907863, -0.20907863,\n",
       "       -0.20907863, -0.20907863, -0.20907863, -0.20907863, -0.20907863,\n",
       "       -0.20907863, -0.20907863, -0.20907863, -0.20907863, -0.20907863,\n",
       "       -0.20907863, -0.20907863, -0.20907863, -0.20907863, -0.20907863,\n",
       "       -0.20907863, -0.20907863, -0.20907863, -0.20907863, -0.20907863,\n",
       "       -0.20907863,  5.89221589, -0.20907863, -0.20907863, -0.20907863,\n",
       "       -0.20907863, -0.20907863, -0.20907863, -0.20907863, -0.20907863,\n",
       "       -0.20907863, -0.20907863, -0.20907863, -0.20907863, -0.20907863,\n",
       "       -0.20907863, -0.20907863, -0.20907863, -0.20907863, -0.20907863,\n",
       "       -0.20907863, -0.20907863, -0.20907863, -0.20907863, -0.20907863,\n",
       "       -0.20907863, -0.20907863, -0.20907863, -0.20907863, -0.20907863,\n",
       "       -0.20907863, -0.20907863, -0.20907863,  1.82468621, -0.20907863,\n",
       "       -0.20907863, -0.20907863, -0.20907863, -0.20907863, -0.20907863,\n",
       "       -0.20907863, -0.20907863, -0.20907863, -0.20907863, -0.20907863,\n",
       "       -0.20907863, -0.20907863, -0.20907863, -0.20907863, -0.20907863,\n",
       "       -0.20907863, -0.20907863, -0.20907863, -0.20907863, -0.20907863,\n",
       "       -0.20907863, -0.20907863, -0.20907863, -0.20907863, -0.20907863,\n",
       "       -0.20907863, -0.20907863, -0.20907863, -0.20907863, -0.20907863,\n",
       "       -0.20907863, -0.20907863, -0.20907863, -0.20907863, -0.20907863,\n",
       "       -0.20907863, -0.20907863, -0.20907863, -0.20907863, -0.20907863,\n",
       "       -0.20907863, -0.20907863, -0.20907863, -0.20907863, -0.20907863,\n",
       "       -0.20907863, -0.20907863, -0.20907863, -0.20907863, -0.20907863,\n",
       "       -0.20907863, -0.20907863, -0.20907863, -0.20907863, -0.20907863,\n",
       "       -0.20907863, -0.20907863, -0.20907863, -0.20907863, -0.20907863,\n",
       "       -0.20907863, -0.20907863, -0.20907863, -0.20907863, -0.20907863,\n",
       "       -0.20907863, -0.20907863, -0.20907863, -0.20907863, -0.20907863,\n",
       "       -0.20907863, -0.20907863, -0.20907863, -0.20907863, -0.20907863,\n",
       "       -0.20907863, -0.20907863, -0.20907863, -0.20907863, -0.20907863,\n",
       "        1.82468621, -0.20907863, -0.20907863, -0.20907863, -0.20907863,\n",
       "       -0.20907863, -0.20907863, -0.20907863, -0.20907863, -0.20907863,\n",
       "       -0.20907863, -0.20907863, -0.20907863, -0.20907863, -0.20907863,\n",
       "       -0.20907863, -0.20907863, -0.20907863, -0.20907863,  1.82468621,\n",
       "       -0.20907863, -0.20907863, -0.20907863, -0.20907863, -0.20907863,\n",
       "       -0.20907863, -0.20907863, -0.20907863, -0.20907863, -0.20907863,\n",
       "       -0.20907863, -0.20907863,  1.82468621, -0.20907863, -0.20907863,\n",
       "       -0.20907863, -0.20907863, -0.20907863, -0.20907863, -0.20907863,\n",
       "       -0.20907863, -0.20907863, -0.20907863,  9.95974557, -0.20907863,\n",
       "       -0.20907863, -0.20907863, -0.20907863, -0.20907863, -0.20907863,\n",
       "       -0.20907863,  1.82468621,  1.82468621, -0.20907863,  1.82468621,\n",
       "       -0.20907863, -0.20907863, -0.20907863, -0.20907863, -0.20907863,\n",
       "       -0.20907863, -0.20907863, -0.20907863, -0.20907863, -0.20907863,\n",
       "       -0.20907863, -0.20907863, -0.20907863, -0.20907863, -0.20907863,\n",
       "       -0.20907863, -0.20907863, -0.20907863, -0.20907863,  1.82468621,\n",
       "       -0.20907863,  7.92598073, -0.20907863, -0.20907863, -0.20907863,\n",
       "       -0.20907863, -0.20907863, -0.20907863, -0.20907863,  1.82468621,\n",
       "       -0.20907863, -0.20907863, -0.20907863, -0.20907863, -0.20907863,\n",
       "       -0.20907863, -0.20907863, -0.20907863, -0.20907863, -0.20907863,\n",
       "       -0.20907863, -0.20907863, -0.20907863, -0.20907863, -0.20907863,\n",
       "       -0.20907863, -0.20907863, -0.20907863, -0.20907863, -0.20907863,\n",
       "       -0.20907863, -0.20907863, -0.20907863, -0.20907863, -0.20907863,\n",
       "       -0.20907863, -0.20907863, -0.20907863, -0.20907863, -0.20907863,\n",
       "       -0.20907863, -0.20907863, -0.20907863, -0.20907863, -0.20907863,\n",
       "       -0.20907863, -0.20907863, -0.20907863, -0.20907863,  1.82468621,\n",
       "       -0.20907863,  1.82468621, -0.20907863, -0.20907863, -0.20907863,\n",
       "       -0.20907863, -0.20907863, -0.20907863, -0.20907863, -0.20907863,\n",
       "       -0.20907863, -0.20907863, -0.20907863, -0.20907863, -0.20907863,\n",
       "       -0.20907863, -0.20907863, -0.20907863, -0.20907863, -0.20907863,\n",
       "       -0.20907863, -0.20907863, -0.20907863, -0.20907863, -0.20907863,\n",
       "       -0.20907863, -0.20907863, -0.20907863, -0.20907863, -0.20907863,\n",
       "       -0.20907863, -0.20907863, -0.20907863, -0.20907863, -0.20907863,\n",
       "       -0.20907863, -0.20907863, -0.20907863, -0.20907863, -0.20907863,\n",
       "       -0.20907863, -0.20907863, -0.20907863, -0.20907863, -0.20907863,\n",
       "       -0.20907863, -0.20907863, -0.20907863, -0.20907863, -0.20907863,\n",
       "       -0.20907863, -0.20907863, -0.20907863, -0.20907863, -0.20907863,\n",
       "       -0.20907863, -0.20907863, -0.20907863, -0.20907863,  1.82468621,\n",
       "       -0.20907863,  1.82468621, -0.20907863,  1.82468621, -0.20907863,\n",
       "       -0.20907863, -0.20907863, -0.20907863, -0.20907863, -0.20907863,\n",
       "       -0.20907863, -0.20907863, -0.20907863, -0.20907863, -0.20907863,\n",
       "       -0.20907863, -0.20907863, -0.20907863])"
      ]
     },
     "execution_count": 175,
     "metadata": {},
     "output_type": "execute_result"
    }
   ],
   "source": [
    "df1[:,3]"
   ]
  },
  {
   "cell_type": "code",
   "execution_count": 176,
   "metadata": {},
   "outputs": [
    {
     "data": {
      "text/plain": [
       "array([[-1.75417331e+00, -1.12706968e-01,  9.30944533e-03, ...,\n",
       "        -1.95568894e-01, -3.13805128e-02,  5.83315719e-04],\n",
       "       [-1.73916239e+00, -1.41645244e+00, -2.01431006e-01, ...,\n",
       "        -1.95568894e-01, -1.71023795e+00, -2.08510407e-01],\n",
       "       [-1.73165693e+00, -1.41645244e+00,  7.09294603e-02, ...,\n",
       "        -1.95568894e-01, -1.71023795e+00,  6.17218311e-02],\n",
       "       ...,\n",
       "       [ 1.73586560e+00,  1.19103850e+00, -1.91571804e-01, ...,\n",
       "        -1.95568894e-01,  1.64747692e+00, -1.98728244e-01],\n",
       "       [ 1.74337106e+00, -1.12706968e-01, -1.52134994e-01, ...,\n",
       "        -1.95568894e-01, -3.13805128e-02, -1.59599595e-01],\n",
       "       [ 1.75087652e+00, -1.12706968e-01, -1.86642202e-01, ...,\n",
       "        -1.95568894e-01, -3.13805128e-02, -1.93837163e-01]])"
      ]
     },
     "execution_count": 176,
     "metadata": {},
     "output_type": "execute_result"
    }
   ],
   "source": [
    "df1"
   ]
  },
  {
   "cell_type": "code",
   "execution_count": 169,
   "metadata": {},
   "outputs": [
    {
     "data": {
      "text/html": [
       "<style>#sk-container-id-2 {color: black;background-color: white;}#sk-container-id-2 pre{padding: 0;}#sk-container-id-2 div.sk-toggleable {background-color: white;}#sk-container-id-2 label.sk-toggleable__label {cursor: pointer;display: block;width: 100%;margin-bottom: 0;padding: 0.3em;box-sizing: border-box;text-align: center;}#sk-container-id-2 label.sk-toggleable__label-arrow:before {content: \"▸\";float: left;margin-right: 0.25em;color: #696969;}#sk-container-id-2 label.sk-toggleable__label-arrow:hover:before {color: black;}#sk-container-id-2 div.sk-estimator:hover label.sk-toggleable__label-arrow:before {color: black;}#sk-container-id-2 div.sk-toggleable__content {max-height: 0;max-width: 0;overflow: hidden;text-align: left;background-color: #f0f8ff;}#sk-container-id-2 div.sk-toggleable__content pre {margin: 0.2em;color: black;border-radius: 0.25em;background-color: #f0f8ff;}#sk-container-id-2 input.sk-toggleable__control:checked~div.sk-toggleable__content {max-height: 200px;max-width: 100%;overflow: auto;}#sk-container-id-2 input.sk-toggleable__control:checked~label.sk-toggleable__label-arrow:before {content: \"▾\";}#sk-container-id-2 div.sk-estimator input.sk-toggleable__control:checked~label.sk-toggleable__label {background-color: #d4ebff;}#sk-container-id-2 div.sk-label input.sk-toggleable__control:checked~label.sk-toggleable__label {background-color: #d4ebff;}#sk-container-id-2 input.sk-hidden--visually {border: 0;clip: rect(1px 1px 1px 1px);clip: rect(1px, 1px, 1px, 1px);height: 1px;margin: -1px;overflow: hidden;padding: 0;position: absolute;width: 1px;}#sk-container-id-2 div.sk-estimator {font-family: monospace;background-color: #f0f8ff;border: 1px dotted black;border-radius: 0.25em;box-sizing: border-box;margin-bottom: 0.5em;}#sk-container-id-2 div.sk-estimator:hover {background-color: #d4ebff;}#sk-container-id-2 div.sk-parallel-item::after {content: \"\";width: 100%;border-bottom: 1px solid gray;flex-grow: 1;}#sk-container-id-2 div.sk-label:hover label.sk-toggleable__label {background-color: #d4ebff;}#sk-container-id-2 div.sk-serial::before {content: \"\";position: absolute;border-left: 1px solid gray;box-sizing: border-box;top: 0;bottom: 0;left: 50%;z-index: 0;}#sk-container-id-2 div.sk-serial {display: flex;flex-direction: column;align-items: center;background-color: white;padding-right: 0.2em;padding-left: 0.2em;position: relative;}#sk-container-id-2 div.sk-item {position: relative;z-index: 1;}#sk-container-id-2 div.sk-parallel {display: flex;align-items: stretch;justify-content: center;background-color: white;position: relative;}#sk-container-id-2 div.sk-item::before, #sk-container-id-2 div.sk-parallel-item::before {content: \"\";position: absolute;border-left: 1px solid gray;box-sizing: border-box;top: 0;bottom: 0;left: 50%;z-index: -1;}#sk-container-id-2 div.sk-parallel-item {display: flex;flex-direction: column;z-index: 1;position: relative;background-color: white;}#sk-container-id-2 div.sk-parallel-item:first-child::after {align-self: flex-end;width: 50%;}#sk-container-id-2 div.sk-parallel-item:last-child::after {align-self: flex-start;width: 50%;}#sk-container-id-2 div.sk-parallel-item:only-child::after {width: 0;}#sk-container-id-2 div.sk-dashed-wrapped {border: 1px dashed gray;margin: 0 0.4em 0.5em 0.4em;box-sizing: border-box;padding-bottom: 0.4em;background-color: white;}#sk-container-id-2 div.sk-label label {font-family: monospace;font-weight: bold;display: inline-block;line-height: 1.2em;}#sk-container-id-2 div.sk-label-container {text-align: center;}#sk-container-id-2 div.sk-container {/* jupyter's `normalize.less` sets `[hidden] { display: none; }` but bootstrap.min.css set `[hidden] { display: none !important; }` so we also need the `!important` here to be able to override the default hidden behavior on the sphinx rendered scikit-learn.org. See: https://github.com/scikit-learn/scikit-learn/issues/21755 */display: inline-block !important;position: relative;}#sk-container-id-2 div.sk-text-repr-fallback {display: none;}</style><div id=\"sk-container-id-2\" class=\"sk-top-container\"><div class=\"sk-text-repr-fallback\"><pre>DBSCAN(eps=0.9, min_samples=6)</pre><b>In a Jupyter environment, please rerun this cell to show the HTML representation or trust the notebook. <br />On GitHub, the HTML representation is unable to render, please try loading this page with nbviewer.org.</b></div><div class=\"sk-container\" hidden><div class=\"sk-item\"><div class=\"sk-estimator sk-toggleable\"><input class=\"sk-toggleable__control sk-hidden--visually\" id=\"sk-estimator-id-2\" type=\"checkbox\" checked><label for=\"sk-estimator-id-2\" class=\"sk-toggleable__label sk-toggleable__label-arrow\">DBSCAN</label><div class=\"sk-toggleable__content\"><pre>DBSCAN(eps=0.9, min_samples=6)</pre></div></div></div></div></div>"
      ],
      "text/plain": [
       "DBSCAN(eps=0.9, min_samples=6)"
      ]
     },
     "execution_count": 169,
     "metadata": {},
     "output_type": "execute_result"
    }
   ],
   "source": [
    "dbs=DBSCAN(eps=0.9, min_samples=6)\n",
    "dbs.fit(df1)\n",
    "myColors = {-1:'red',0:'green',1:'blue'}                                 # Define a color palette: -1~1.  Red = -1 = outlier.\n",
    "plt.scatter(df1[:,0],df1[:,1], c= pd.Series(dbs.labels_).apply(lambda x: myColors[x]), alpha=0.7 )   \n",
    "plt.title('Dataset #1 : DBSCAN')\n",
    "plt.show()"
   ]
  },
  {
   "cell_type": "code",
   "execution_count": 171,
   "metadata": {},
   "outputs": [
    {
     "ename": "KeyError",
     "evalue": "5",
     "output_type": "error",
     "traceback": [
      "\u001b[0;31m---------------------------------------------------------------------------\u001b[0m",
      "\u001b[0;31mKeyError\u001b[0m                                  Traceback (most recent call last)",
      "Cell \u001b[0;32mIn[171], line 2\u001b[0m\n\u001b[1;32m      1\u001b[0m myColors \u001b[39m=\u001b[39m {\u001b[39m-\u001b[39m\u001b[39m1\u001b[39m:\u001b[39m'\u001b[39m\u001b[39mred\u001b[39m\u001b[39m'\u001b[39m,\u001b[39m0\u001b[39m:\u001b[39m'\u001b[39m\u001b[39mgreen\u001b[39m\u001b[39m'\u001b[39m,\u001b[39m1\u001b[39m:\u001b[39m'\u001b[39m\u001b[39mblue\u001b[39m\u001b[39m'\u001b[39m}\n\u001b[0;32m----> 2\u001b[0m plt\u001b[39m.\u001b[39mscatter(np\u001b[39m.\u001b[39marray(df1[:,\u001b[39m0\u001b[39m]), c\u001b[39m=\u001b[39m pd\u001b[39m.\u001b[39;49mSeries(dbs\u001b[39m.\u001b[39;49mlabels_)\u001b[39m.\u001b[39;49mapply(\u001b[39mlambda\u001b[39;49;00m x: myColors[x]), alpha\u001b[39m=\u001b[39m\u001b[39m0.7\u001b[39m )\n\u001b[1;32m      3\u001b[0m plt\u001b[39m.\u001b[39mtitle(\u001b[39m'\u001b[39m\u001b[39mDataset #1 : DBSCAN\u001b[39m\u001b[39m'\u001b[39m)\n\u001b[1;32m      4\u001b[0m plt\u001b[39m.\u001b[39mshow()\n",
      "File \u001b[0;32m~/miniconda3/lib/python3.10/site-packages/pandas/core/series.py:4771\u001b[0m, in \u001b[0;36mSeries.apply\u001b[0;34m(self, func, convert_dtype, args, **kwargs)\u001b[0m\n\u001b[1;32m   4661\u001b[0m \u001b[39mdef\u001b[39;00m \u001b[39mapply\u001b[39m(\n\u001b[1;32m   4662\u001b[0m     \u001b[39mself\u001b[39m,\n\u001b[1;32m   4663\u001b[0m     func: AggFuncType,\n\u001b[0;32m   (...)\u001b[0m\n\u001b[1;32m   4666\u001b[0m     \u001b[39m*\u001b[39m\u001b[39m*\u001b[39mkwargs,\n\u001b[1;32m   4667\u001b[0m ) \u001b[39m-\u001b[39m\u001b[39m>\u001b[39m DataFrame \u001b[39m|\u001b[39m Series:\n\u001b[1;32m   4668\u001b[0m     \u001b[39m\"\"\"\u001b[39;00m\n\u001b[1;32m   4669\u001b[0m \u001b[39m    Invoke function on values of Series.\u001b[39;00m\n\u001b[1;32m   4670\u001b[0m \n\u001b[0;32m   (...)\u001b[0m\n\u001b[1;32m   4769\u001b[0m \u001b[39m    dtype: float64\u001b[39;00m\n\u001b[1;32m   4770\u001b[0m \u001b[39m    \"\"\"\u001b[39;00m\n\u001b[0;32m-> 4771\u001b[0m     \u001b[39mreturn\u001b[39;00m SeriesApply(\u001b[39mself\u001b[39;49m, func, convert_dtype, args, kwargs)\u001b[39m.\u001b[39;49mapply()\n",
      "File \u001b[0;32m~/miniconda3/lib/python3.10/site-packages/pandas/core/apply.py:1105\u001b[0m, in \u001b[0;36mSeriesApply.apply\u001b[0;34m(self)\u001b[0m\n\u001b[1;32m   1102\u001b[0m     \u001b[39mreturn\u001b[39;00m \u001b[39mself\u001b[39m\u001b[39m.\u001b[39mapply_str()\n\u001b[1;32m   1104\u001b[0m \u001b[39m# self.f is Callable\u001b[39;00m\n\u001b[0;32m-> 1105\u001b[0m \u001b[39mreturn\u001b[39;00m \u001b[39mself\u001b[39;49m\u001b[39m.\u001b[39;49mapply_standard()\n",
      "File \u001b[0;32m~/miniconda3/lib/python3.10/site-packages/pandas/core/apply.py:1156\u001b[0m, in \u001b[0;36mSeriesApply.apply_standard\u001b[0;34m(self)\u001b[0m\n\u001b[1;32m   1154\u001b[0m     \u001b[39melse\u001b[39;00m:\n\u001b[1;32m   1155\u001b[0m         values \u001b[39m=\u001b[39m obj\u001b[39m.\u001b[39mastype(\u001b[39mobject\u001b[39m)\u001b[39m.\u001b[39m_values\n\u001b[0;32m-> 1156\u001b[0m         mapped \u001b[39m=\u001b[39m lib\u001b[39m.\u001b[39;49mmap_infer(\n\u001b[1;32m   1157\u001b[0m             values,\n\u001b[1;32m   1158\u001b[0m             f,\n\u001b[1;32m   1159\u001b[0m             convert\u001b[39m=\u001b[39;49m\u001b[39mself\u001b[39;49m\u001b[39m.\u001b[39;49mconvert_dtype,\n\u001b[1;32m   1160\u001b[0m         )\n\u001b[1;32m   1162\u001b[0m \u001b[39mif\u001b[39;00m \u001b[39mlen\u001b[39m(mapped) \u001b[39mand\u001b[39;00m \u001b[39misinstance\u001b[39m(mapped[\u001b[39m0\u001b[39m], ABCSeries):\n\u001b[1;32m   1163\u001b[0m     \u001b[39m# GH#43986 Need to do list(mapped) in order to get treated as nested\u001b[39;00m\n\u001b[1;32m   1164\u001b[0m     \u001b[39m#  See also GH#25959 regarding EA support\u001b[39;00m\n\u001b[1;32m   1165\u001b[0m     \u001b[39mreturn\u001b[39;00m obj\u001b[39m.\u001b[39m_constructor_expanddim(\u001b[39mlist\u001b[39m(mapped), index\u001b[39m=\u001b[39mobj\u001b[39m.\u001b[39mindex)\n",
      "File \u001b[0;32m~/miniconda3/lib/python3.10/site-packages/pandas/_libs/lib.pyx:2918\u001b[0m, in \u001b[0;36mpandas._libs.lib.map_infer\u001b[0;34m()\u001b[0m\n",
      "Cell \u001b[0;32mIn[171], line 2\u001b[0m, in \u001b[0;36m<lambda>\u001b[0;34m(x)\u001b[0m\n\u001b[1;32m      1\u001b[0m myColors \u001b[39m=\u001b[39m {\u001b[39m-\u001b[39m\u001b[39m1\u001b[39m:\u001b[39m'\u001b[39m\u001b[39mred\u001b[39m\u001b[39m'\u001b[39m,\u001b[39m0\u001b[39m:\u001b[39m'\u001b[39m\u001b[39mgreen\u001b[39m\u001b[39m'\u001b[39m,\u001b[39m1\u001b[39m:\u001b[39m'\u001b[39m\u001b[39mblue\u001b[39m\u001b[39m'\u001b[39m}\n\u001b[0;32m----> 2\u001b[0m plt\u001b[39m.\u001b[39mscatter(np\u001b[39m.\u001b[39marray(df1[:,\u001b[39m0\u001b[39m]), c\u001b[39m=\u001b[39m pd\u001b[39m.\u001b[39mSeries(dbs\u001b[39m.\u001b[39mlabels_)\u001b[39m.\u001b[39mapply(\u001b[39mlambda\u001b[39;00m x: myColors[x]), alpha\u001b[39m=\u001b[39m\u001b[39m0.7\u001b[39m )\n\u001b[1;32m      3\u001b[0m plt\u001b[39m.\u001b[39mtitle(\u001b[39m'\u001b[39m\u001b[39mDataset #1 : DBSCAN\u001b[39m\u001b[39m'\u001b[39m)\n\u001b[1;32m      4\u001b[0m plt\u001b[39m.\u001b[39mshow()\n",
      "\u001b[0;31mKeyError\u001b[0m: 5"
     ]
    }
   ],
   "source": []
  },
  {
   "cell_type": "code",
   "execution_count": null,
   "metadata": {},
   "outputs": [],
   "source": []
  }
 ],
 "metadata": {
  "kernelspec": {
   "display_name": "base",
   "language": "python",
   "name": "python3"
  },
  "language_info": {
   "codemirror_mode": {
    "name": "ipython",
    "version": 3
   },
   "file_extension": ".py",
   "mimetype": "text/x-python",
   "name": "python",
   "nbconvert_exporter": "python",
   "pygments_lexer": "ipython3",
   "version": "3.10.8"
  },
  "orig_nbformat": 4,
  "vscode": {
   "interpreter": {
    "hash": "320a220aef940f7325971b65a120554b2de414fca785f85c62125cc005fc1e90"
   }
  }
 },
 "nbformat": 4,
 "nbformat_minor": 2
}
