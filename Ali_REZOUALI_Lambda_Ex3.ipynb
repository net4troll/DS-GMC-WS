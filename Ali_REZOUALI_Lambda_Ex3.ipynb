{
  "nbformat": 4,
  "nbformat_minor": 0,
  "metadata": {
    "kernelspec": {
      "display_name": "Python 3",
      "language": "python",
      "name": "python3"
    },
    "language_info": {
      "codemirror_mode": {
        "name": "ipython",
        "version": 3
      },
      "file_extension": ".py",
      "mimetype": "text/x-python",
      "name": "python",
      "nbconvert_exporter": "python",
      "pygments_lexer": "ipython3",
      "version": "3.7.3"
    },
    "colab": {
      "provenance": [],
      "include_colab_link": true
    }
  },
  "cells": [
    {
      "cell_type": "markdown",
      "metadata": {
        "id": "view-in-github",
        "colab_type": "text"
      },
      "source": [
        "<a href=\"https://colab.research.google.com/github/net4troll/DS-GMC-WS/blob/main/Ali_REZOUALI_Lambda_Ex3.ipynb\" target=\"_parent\"><img src=\"https://colab.research.google.com/assets/colab-badge.svg\" alt=\"Open In Colab\"/></a>"
      ]
    },
    {
      "cell_type": "markdown",
      "metadata": {
        "id": "EG9kFU3N1Ugx"
      },
      "source": [
        "#### Use a lambda function and map() to answer the following questions."
      ]
    },
    {
      "cell_type": "markdown",
      "metadata": {
        "id": "PN1u7jHB1Ug0"
      },
      "source": [
        "1). Add 1 to each element of the list 'a' and create another list. <br>\n",
        "\n",
        "1.   List item\n",
        "2.   List item\n",
        "\n",
        "\n",
        "\n",
        "a = [1, 2, 3, 4, 5, 6, 7, 8, 9, 10]"
      ]
    },
    {
      "cell_type": "code",
      "metadata": {
        "id": "sbAWwEkS1Ug1",
        "colab": {
          "base_uri": "https://localhost:8080/"
        },
        "outputId": "b9cfce85-38ce-4713-edad-c22f38f7b856"
      },
      "source": [
        "a = [1, 2, 3, 4, 5, 6, 7, 8, 9, 10]\n",
        "b = list(map(lambda x: x+1,a))\n",
        "b"
      ],
      "execution_count": null,
      "outputs": [
        {
          "output_type": "execute_result",
          "data": {
            "text/plain": [
              "[2, 3, 4, 5, 6, 7, 8, 9, 10, 11]"
            ]
          },
          "metadata": {},
          "execution_count": 41
        }
      ]
    },
    {
      "cell_type": "markdown",
      "metadata": {
        "id": "QgZa5LSV1Ug2"
      },
      "source": [
        "2). Multiply element-wise the lists 'a' and 'b'. Show the result as another list.\n",
        "\n",
        "a = [2, 4, 6, 8, 10]\n",
        "\n",
        "b = [10, 8, 6, 4, 2]"
      ]
    },
    {
      "cell_type": "code",
      "metadata": {
        "id": "sX0jN1ZW1Ug3",
        "colab": {
          "base_uri": "https://localhost:8080/"
        },
        "outputId": "203cefb4-2dfa-479c-9bb3-746dbe9ee5fd"
      },
      "source": [
        "a = [2, 4, 6, 8, 10]\n",
        "b = [10, 8, 6, 4, 2]\n",
        "c = list(map(lambda x,y : x*y, a,b))\n",
        "c"
      ],
      "execution_count": null,
      "outputs": [
        {
          "output_type": "execute_result",
          "data": {
            "text/plain": [
              "[20, 32, 36, 32, 20]"
            ]
          },
          "metadata": {},
          "execution_count": 42
        }
      ]
    },
    {
      "cell_type": "markdown",
      "metadata": {
        "id": "BokB9lcw1Ug4"
      },
      "source": [
        "#### Use a lambda function and filter() to answer the following questions."
      ]
    },
    {
      "cell_type": "markdown",
      "metadata": {
        "id": "Jv-R5tNq1Ug5"
      },
      "source": [
        "3). Find the multiples of 5 in the range 1~100. Show the result as a list."
      ]
    },
    {
      "cell_type": "code",
      "metadata": {
        "id": "G_QW-LCz1Ug5",
        "colab": {
          "base_uri": "https://localhost:8080/"
        },
        "outputId": "83ca5677-91f1-4207-f584-cb406e47cf1c"
      },
      "source": [
        "x = list(filter(lambda x: x%5==0,list(range(1,101))))\n",
        "print(x)"
      ],
      "execution_count": null,
      "outputs": [
        {
          "output_type": "stream",
          "name": "stdout",
          "text": [
            "[5, 10, 15, 20, 25, 30, 35, 40, 45, 50, 55, 60, 65, 70, 75, 80, 85, 90, 95, 100]\n"
          ]
        }
      ]
    },
    {
      "cell_type": "markdown",
      "metadata": {
        "id": "6sEVTbNV1Ug6"
      },
      "source": [
        "4). In the following list, find the values larger than 160. Show the result as a list.\n",
        "\n",
        "a = [145.2, 160.3, 155.2, 171.6, 165.34, 167.2, 161.1, 164.9]"
      ]
    },
    {
      "cell_type": "code",
      "metadata": {
        "id": "47xBGGI61Ug7",
        "colab": {
          "base_uri": "https://localhost:8080/"
        },
        "outputId": "b3abaadb-3357-40f4-9202-7a3a7de87ab6"
      },
      "source": [
        "a = [145.2, 160.3, 155.2, 171.6, 165.34, 167.2, 161.1, 164.9]\n",
        "list(filter(lambda x: x>160, a))"
      ],
      "execution_count": null,
      "outputs": [
        {
          "output_type": "execute_result",
          "data": {
            "text/plain": [
              "[160.3, 171.6, 165.34, 167.2, 161.1, 164.9]"
            ]
          },
          "metadata": {},
          "execution_count": 44
        }
      ]
    },
    {
      "cell_type": "markdown",
      "metadata": {
        "id": "yGznyLCr1Ug8"
      },
      "source": [
        "5). In the following list, find the values larger than 160 and smaller than 165. Show the result as a list.\n",
        "\n",
        "a = [145.2, 160.3, 155.2, 171.6, 165.34, 167.2, 161.1, 164.9]"
      ]
    },
    {
      "cell_type": "code",
      "metadata": {
        "id": "G_TRtFAp1Ug8",
        "colab": {
          "base_uri": "https://localhost:8080/"
        },
        "outputId": "d960a91f-6dfd-4080-b8fe-a1279d03118d"
      },
      "source": [
        "a = [145.2, 160.3, 155.2, 171.6, 165.34, 167.2, 161.1, 164.9]\n",
        "list(filter(lambda x:  160<x and x<165 , a))"
      ],
      "execution_count": null,
      "outputs": [
        {
          "output_type": "execute_result",
          "data": {
            "text/plain": [
              "[160.3, 161.1, 164.9]"
            ]
          },
          "metadata": {},
          "execution_count": 45
        }
      ]
    },
    {
      "cell_type": "markdown",
      "metadata": {
        "id": "UrXZtUKD1Ug9"
      },
      "source": [
        "6). In the following list of names, extract only those stargin with 'J'. Show the result as a list.\n",
        "\n",
        "a = ['Sara', 'Jack', 'Rebecca', 'Jennifer', 'Paul', 'Andrew', 'John']"
      ]
    },
    {
      "cell_type": "code",
      "metadata": {
        "id": "huzQHRgi1Ug9",
        "colab": {
          "base_uri": "https://localhost:8080/"
        },
        "outputId": "129314a5-6468-4978-934a-cc7a79f372a1"
      },
      "source": [
        "a = ['Sara', 'Jack', 'Rebecca', 'Jennifer', 'Paul', 'Andrew', 'John']\n",
        "\n",
        "list(filter(lambda x : x[0].lower()==\"J\", a)) "
      ],
      "execution_count": null,
      "outputs": [
        {
          "output_type": "execute_result",
          "data": {
            "text/plain": [
              "['Jack', 'Jennifer', 'John']"
            ]
          },
          "metadata": {},
          "execution_count": 46
        }
      ]
    }
  ]
}