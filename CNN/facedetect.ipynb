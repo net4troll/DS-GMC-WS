{
 "cells": [
  {
   "cell_type": "code",
   "execution_count": 169,
   "metadata": {},
   "outputs": [],
   "source": [
    "import cv2\n",
    "import dlib\n",
    "\n",
    "detector = dlib.get_frontal_face_detector()\n",
    "new_path ='/Users/alfahwun/Documents/pexels/angry/'\n"
   ]
  },
  {
   "cell_type": "code",
   "execution_count": 170,
   "metadata": {},
   "outputs": [],
   "source": [
    "def save(img,name, bbox, width=64,height=64):\n",
    "    x, y, w, h = bbox\n",
    "    imgCrop = img[y:h, x: w]\n",
    "    imgCrop = cv2.resize(imgCrop, (width, height))#we need this line to reshape the images\n",
    "    cv2.imwrite(f\"{name}.jpg\", imgCrop)\n"
   ]
  },
  {
   "cell_type": "code",
   "execution_count": 171,
   "metadata": {},
   "outputs": [],
   "source": [
    "def faces(file):\n",
    "    fit =20\n",
    "    frame =cv2.imread(f'{file}')\n",
    "    faces = detector(frame)\n",
    "    for counter,face in enumerate(faces):\n",
    "        print(counter)\n",
    "        x1, y1 = face.left(), face.top()\n",
    "        x2, y2 = face.right(), face.bottom()\n",
    "        save(frame,new_path+str(file)[-12:]+str(counter),(x1,y1,x2,y2))\n",
    "    print(f\"{file} done saving\")"
   ]
  },
  {
   "cell_type": "code",
   "execution_count": 172,
   "metadata": {},
   "outputs": [
    {
     "name": "stdout",
     "output_type": "stream",
     "text": [
      "/Users/alfahwun/Documents/pexels/angry people/15603904.jpg done saving\n",
      "0\n",
      "/Users/alfahwun/Documents/pexels/angry people/6974921.jpg done saving\n",
      "0\n",
      "1\n",
      "/Users/alfahwun/Documents/pexels/angry people/3812739.jpg done saving\n",
      "0\n",
      "/Users/alfahwun/Documents/pexels/angry people/6975383.jpg done saving\n",
      "0\n",
      "/Users/alfahwun/Documents/pexels/angry people/6333510.jpg done saving\n",
      "0\n",
      "/Users/alfahwun/Documents/pexels/angry people/6333504.jpg done saving\n",
      "0\n",
      "/Users/alfahwun/Documents/pexels/angry people/3812761.jpg done saving\n",
      "0\n",
      "/Users/alfahwun/Documents/pexels/angry people/8059078.jpg done saving\n",
      "0\n",
      "/Users/alfahwun/Documents/pexels/angry people/8638018.jpg done saving\n",
      "0\n",
      "/Users/alfahwun/Documents/pexels/angry people/8059079.jpg done saving\n",
      "0\n",
      "/Users/alfahwun/Documents/pexels/angry people/3799830.jpg done saving\n",
      "0\n",
      "/Users/alfahwun/Documents/pexels/angry people/4221850.jpg done saving\n",
      "0\n",
      "/Users/alfahwun/Documents/pexels/angry people/3812754.jpg done saving\n",
      "0\n",
      "0\n",
      "/Users/alfahwun/Documents/pexels/angry people/5066297.jpg done saving\n",
      "0\n",
      "1\n",
      "2\n",
      "3\n",
      "4\n",
      "5\n",
      "6\n",
      "7\n",
      "8\n",
      "9\n",
      "10\n",
      "11\n",
      "12\n",
      "13\n",
      "14\n",
      "15\n",
      "16\n",
      "17\n",
      "18\n",
      "19\n",
      "20\n",
      "21\n",
      "22\n",
      "23\n",
      "/Users/alfahwun/Documents/pexels/angry people/3812743.jpg done saving\n",
      "0\n",
      "/Users/alfahwun/Documents/pexels/angry people/6844526.jpg done saving\n",
      "0\n",
      "/Users/alfahwun/Documents/pexels/angry people/3812746.jpg done saving\n",
      "0\n",
      "/Users/alfahwun/Documents/pexels/angry people/8727490.jpg done saving\n",
      "0\n",
      "/Users/alfahwun/Documents/pexels/angry people/3760790.jpg done saving\n",
      "0\n",
      "/Users/alfahwun/Documents/pexels/angry people/3812721.jpg done saving\n",
      "0\n",
      "/Users/alfahwun/Documents/pexels/angry people/8521216.jpg done saving\n",
      "/Users/alfahwun/Documents/pexels/angry people/3760778.jpg done saving\n",
      "/Users/alfahwun/Documents/pexels/angry people/6406710.jpg done saving\n",
      "0\n",
      "/Users/alfahwun/Documents/pexels/angry people/3771103.jpg done saving\n",
      "0\n",
      "/Users/alfahwun/Documents/pexels/angry people/4095246.jpg done saving\n",
      "0\n",
      "/Users/alfahwun/Documents/pexels/angry people/6382714.jpg done saving\n"
     ]
    }
   ],
   "source": [
    "from pathlib import Path\n",
    "# assign directory\n",
    "directory = '/Users/alfahwun/Documents/pexels/angry people/'\n",
    "files = Path(directory).glob('*')\n",
    "\n",
    "for file in files:\n",
    "        try:\n",
    "            faces(file)\n",
    "        except Exception:\n",
    "            continue"
   ]
  },
  {
   "cell_type": "code",
   "execution_count": null,
   "metadata": {},
   "outputs": [],
   "source": []
  }
 ],
 "metadata": {
  "kernelspec": {
   "display_name": "base",
   "language": "python",
   "name": "python3"
  },
  "language_info": {
   "codemirror_mode": {
    "name": "ipython",
    "version": 3
   },
   "file_extension": ".py",
   "mimetype": "text/x-python",
   "name": "python",
   "nbconvert_exporter": "python",
   "pygments_lexer": "ipython3",
   "version": "3.10.9"
  },
  "orig_nbformat": 4
 },
 "nbformat": 4,
 "nbformat_minor": 2
}
