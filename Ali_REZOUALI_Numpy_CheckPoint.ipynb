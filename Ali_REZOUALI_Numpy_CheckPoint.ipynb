{
  "nbformat": 4,
  "nbformat_minor": 0,
  "metadata": {
    "colab": {
      "provenance": [],
      "authorship_tag": "ABX9TyPUW1fCxT1nS2RLkkdbBrjB",
      "include_colab_link": true
    },
    "kernelspec": {
      "name": "python3",
      "display_name": "Python 3"
    },
    "language_info": {
      "name": "python"
    }
  },
  "cells": [
    {
      "cell_type": "markdown",
      "metadata": {
        "id": "view-in-github",
        "colab_type": "text"
      },
      "source": [
        "<a href=\"https://colab.research.google.com/github/net4troll/DS-GMC-WS/blob/main/Ali_REZOUALI_Numpy_CheckPoint.ipynb\" target=\"_parent\"><img src=\"https://colab.research.google.com/assets/colab-badge.svg\" alt=\"Open In Colab\"/></a>"
      ]
    },
    {
      "cell_type": "code",
      "execution_count": null,
      "metadata": {
        "id": "3ic85YN2_6b9"
      },
      "outputs": [],
      "source": [
        "import numpy as np"
      ]
    },
    {
      "cell_type": "markdown",
      "source": [
        "Write a Python program to convert an array to an ordinary list with the same items.\n"
      ],
      "metadata": {
        "id": "OnXU1DlHDAe-"
      }
    },
    {
      "cell_type": "code",
      "source": [
        "a = np.array([[1,2],[3,5]])"
      ],
      "metadata": {
        "id": "0wTpg0LGcz9X"
      },
      "execution_count": null,
      "outputs": []
    },
    {
      "cell_type": "code",
      "source": [
        "new_list = a.tolist()\n",
        "print(new_list)\n",
        "type(new_list)"
      ],
      "metadata": {
        "colab": {
          "base_uri": "https://localhost:8080/"
        },
        "id": "m6YDZXJREIwO",
        "outputId": "e60176d1-b86f-428a-b013-97569869e16c"
      },
      "execution_count": null,
      "outputs": [
        {
          "output_type": "stream",
          "name": "stdout",
          "text": [
            "[[1, 2], [3, 5]]\n"
          ]
        },
        {
          "output_type": "execute_result",
          "data": {
            "text/plain": [
              "list"
            ]
          },
          "metadata": {},
          "execution_count": 211
        }
      ]
    },
    {
      "cell_type": "markdown",
      "source": [
        "Write a NumPy program to compute the sum of the diagonal element of a given array.\n"
      ],
      "metadata": {
        "id": "4OIfs4ebHo1S"
      }
    },
    {
      "cell_type": "code",
      "source": [
        "def diagonal_sum(a_list):\n",
        "  sum_diag = sum(a_list.diagonal())\n",
        "  return sum_diag"
      ],
      "metadata": {
        "id": "wn_C4jVHGNsO"
      },
      "execution_count": null,
      "outputs": []
    },
    {
      "cell_type": "code",
      "source": [
        "diagonal_sum(a)"
      ],
      "metadata": {
        "colab": {
          "base_uri": "https://localhost:8080/"
        },
        "id": "3b9enV2IH9_e",
        "outputId": "8ca68359-d298-4d5a-8598-d2d07c74b30a"
      },
      "execution_count": null,
      "outputs": [
        {
          "output_type": "execute_result",
          "data": {
            "text/plain": [
              "6"
            ]
          },
          "metadata": {},
          "execution_count": 214
        }
      ]
    },
    {
      "cell_type": "markdown",
      "source": [
        "Given an array of your choice, get all the values higher than X :\n",
        "if a = [[1,2],[3,5]] and x = 2 :  then 3 and 5 are higher than 2.\n"
      ],
      "metadata": {
        "id": "D5z6YLdsM_7p"
      }
    },
    {
      "cell_type": "code",
      "source": [
        "a = np.array([[1,2],[3,5]])\n",
        "x = 2"
      ],
      "metadata": {
        "id": "ibxFn_iWNaoa"
      },
      "execution_count": null,
      "outputs": []
    },
    {
      "cell_type": "code",
      "source": [
        "a = a.reshape(-1)\n",
        "a = a.tolist()\n",
        "sup = []\n",
        "for i in a:\n",
        "  if i > x :\n",
        "    sup.append(i)\n",
        "sup"
      ],
      "metadata": {
        "colab": {
          "base_uri": "https://localhost:8080/"
        },
        "id": "fPqzx8C1QJCY",
        "outputId": "2261a4c7-69ae-4f8e-b81a-35bd84d421ab"
      },
      "execution_count": null,
      "outputs": [
        {
          "output_type": "execute_result",
          "data": {
            "text/plain": [
              "[3, 5]"
            ]
          },
          "metadata": {},
          "execution_count": 216
        }
      ]
    },
    {
      "cell_type": "markdown",
      "source": [
        "Given two arrays A&B having the same shape. The task is to apply addition of A and B : C is the new array. \n"
      ],
      "metadata": {
        "id": "CxauMT-nW9hk"
      }
    },
    {
      "cell_type": "code",
      "source": [
        "A = np.array([[1,2],[3,5]])\n",
        "B = np.array([[6,7],[9,10]])"
      ],
      "metadata": {
        "id": "fCGQ2Rd7Xz7F"
      },
      "execution_count": null,
      "outputs": []
    },
    {
      "cell_type": "code",
      "source": [
        "C = np.add(A,B)"
      ],
      "metadata": {
        "id": "MW6tdVZAX3do"
      },
      "execution_count": null,
      "outputs": []
    },
    {
      "cell_type": "code",
      "source": [
        "C"
      ],
      "metadata": {
        "colab": {
          "base_uri": "https://localhost:8080/"
        },
        "id": "qTcwPxL6X84q",
        "outputId": "d6a1dda8-6ea7-47d5-ee7c-1987ea2ae8a6"
      },
      "execution_count": null,
      "outputs": [
        {
          "output_type": "execute_result",
          "data": {
            "text/plain": [
              "array([[ 7,  9],\n",
              "       [12, 15]])"
            ]
          },
          "metadata": {},
          "execution_count": 219
        }
      ]
    }
  ]
}