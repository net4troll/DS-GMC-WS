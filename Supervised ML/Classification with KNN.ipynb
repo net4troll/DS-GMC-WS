{
  "cells": [
    {
      "cell_type": "markdown",
      "metadata": {
        "id": "aJ5NgN9S2v_c"
      },
      "source": [
        "### 1. Classification with KNN:"
      ]
    },
    {
      "cell_type": "code",
      "execution_count": null,
      "metadata": {
        "id": "4GOyrGzn2v_c"
      },
      "outputs": [],
      "source": [
        "import numpy as np\n",
        "import pandas as pd\n",
        "import matplotlib.pyplot as plt\n",
        "import os\n",
        "import seaborn as sns\n",
        "import warnings\n",
        "from sklearn.model_selection import train_test_split,GridSearchCV\n",
        "from sklearn.neighbors import KNeighborsClassifier\n",
        "from sklearn import metrics, preprocessing\n",
        "warnings.filterwarnings(action='ignore')                  # Turn off the warnings.\n",
        "%matplotlib inline"
      ]
    },
    {
      "cell_type": "markdown",
      "metadata": {
        "id": "biR40ZP12v_f"
      },
      "source": [
        "#### 1.1. Read in data:"
      ]
    },
    {
      "cell_type": "markdown",
      "metadata": {
        "id": "sFrs90UR2v_g"
      },
      "source": [
        "The data and explanation can be found [here](https://www.kaggle.com/c/titanic/data) (requires sign in)."
      ]
    },
    {
      "cell_type": "code",
      "execution_count": null,
      "metadata": {
        "id": "ApBnMG4p2v_g"
      },
      "outputs": [],
      "source": [
        "# Go to the directory where the data file is located. \n",
        "# os.chdir(r'~~')                # Please, replace the path with your own.   "
      ]
    },
    {
      "cell_type": "code",
      "execution_count": null,
      "metadata": {
        "id": "ui-NnrE52v_g"
      },
      "outputs": [],
      "source": [
        "df = pd.read_csv('data_titanic.csv', header='infer')"
      ]
    },
    {
      "cell_type": "code",
      "execution_count": null,
      "metadata": {
        "id": "Z4_4iVWp2v_h"
      },
      "outputs": [],
      "source": [
        "df.shape"
      ]
    },
    {
      "cell_type": "code",
      "execution_count": null,
      "metadata": {
        "id": "v0Jy89t02v_h"
      },
      "outputs": [],
      "source": [
        "df.head(3)"
      ]
    },
    {
      "cell_type": "markdown",
      "metadata": {
        "id": "7llFjQSm2v_i"
      },
      "source": [
        "#### 1.2. Missing value processing: "
      ]
    },
    {
      "cell_type": "code",
      "execution_count": null,
      "metadata": {
        "id": "gxvsCCE32v_i"
      },
      "outputs": [],
      "source": [
        "# Check for the missing values.\n",
        "df.isnull().sum(axis=0)"
      ]
    },
    {
      "cell_type": "code",
      "execution_count": null,
      "metadata": {
        "id": "r3xWLrp02v_j"
      },
      "outputs": [],
      "source": [
        "# Fill the missing values in the Age variable.\n",
        "n = df.shape[0]\n",
        "Age = []                                                               # A temporary list.\n",
        "for i in range(n):\n",
        "    if np.isnan(df.Age[i]):\n",
        "        if ('Mr' in df.Name[i]) or ('Mrs' in df.Name[i]) :\n",
        "            Age.append(30)                                             # If Mr. or Mrs. in the name, then fill with 30.\n",
        "        else:\n",
        "            Age.append(10)                                             # Likely a child. So, fill with 10.\n",
        "    else:\n",
        "        Age.append(df.Age[i])\n",
        "df.Age = pd.Series(Age)"
      ]
    },
    {
      "cell_type": "code",
      "execution_count": null,
      "metadata": {
        "id": "sod2IVhr2v_j"
      },
      "outputs": [],
      "source": [
        "# We will drop some columns.\n",
        "df = df.drop(columns = ['PassengerId','Name','Ticket','Fare','Cabin'])\n",
        "df.head(3)"
      ]
    },
    {
      "cell_type": "code",
      "execution_count": null,
      "metadata": {
        "id": "G50cNRip2v_k"
      },
      "outputs": [],
      "source": [
        "# Delete the rest of missing values.\n",
        "df=df.dropna(axis=0)\n",
        "df.shape"
      ]
    },
    {
      "cell_type": "code",
      "execution_count": null,
      "metadata": {
        "id": "K5jxRsPx2v_l"
      },
      "outputs": [],
      "source": [
        "df.shape"
      ]
    },
    {
      "cell_type": "markdown",
      "metadata": {
        "id": "Mb5oc0FX2v_l"
      },
      "source": [
        "#### 1.3. Exploratory data analysis:"
      ]
    },
    {
      "cell_type": "code",
      "execution_count": null,
      "metadata": {
        "id": "d6mHh4CL2v_m"
      },
      "outputs": [],
      "source": [
        "# The frequency table of Survived.\n",
        "sns.countplot('Survived',data=df)\n",
        "plt.show()"
      ]
    },
    {
      "cell_type": "code",
      "execution_count": null,
      "metadata": {
        "id": "gJw0164s2v_m"
      },
      "outputs": [],
      "source": [
        "# Survival rate by Age category. \n",
        "df['AgeCategory'] = pd.qcut(df.Age,4)                   # Using quantiles cut into 4 intervals.\n",
        "sns.barplot(x='AgeCategory',y='Survived', ci=None, data=df)\n",
        "plt.show()"
      ]
    },
    {
      "cell_type": "code",
      "execution_count": null,
      "metadata": {
        "id": "hduyiKAK2v_n"
      },
      "outputs": [],
      "source": [
        "# Survival rate by SibSp category. \n",
        "sns.barplot(x='SibSp', y='Survived', ci=None, data=df)\n",
        "plt.show()"
      ]
    },
    {
      "cell_type": "code",
      "execution_count": null,
      "metadata": {
        "id": "K0dAHq4n2v_p"
      },
      "outputs": [],
      "source": [
        "# Survival rate by Parch.\n",
        "sns.barplot(x='Parch', y='Survived', ci=None, data=df)\n",
        "plt.show()"
      ]
    },
    {
      "cell_type": "code",
      "execution_count": null,
      "metadata": {
        "id": "A3Ox4Gi82v_q"
      },
      "outputs": [],
      "source": [
        "# Survival rate by Pclass.\n",
        "sns.barplot(x='Pclass', y='Survived', ci=None, data=df)\n",
        "plt.show()"
      ]
    },
    {
      "cell_type": "code",
      "execution_count": null,
      "metadata": {
        "id": "sI2iy9pZ2v_q"
      },
      "outputs": [],
      "source": [
        "# Survival rate by Embarked.\n",
        "sns.barplot(x='Embarked', y='Survived', ci=None, data=df)\n",
        "plt.show()"
      ]
    },
    {
      "cell_type": "code",
      "execution_count": null,
      "metadata": {
        "id": "yx0H1DV72v_s"
      },
      "outputs": [],
      "source": [
        "# Survival rate by Sex.\n",
        "sns.barplot(x='Sex', y='Survived', ci=None,  data=df)\n",
        "plt.show()"
      ]
    },
    {
      "cell_type": "markdown",
      "metadata": {
        "id": "PnQrBRrn2v_t"
      },
      "source": [
        "#### 1.4. Feature engineering:"
      ]
    },
    {
      "cell_type": "code",
      "execution_count": null,
      "metadata": {
        "id": "Qg1MG38l2v_u"
      },
      "outputs": [],
      "source": [
        "# Convert into dummy variables and then remove the original variables.\n",
        "df = pd.get_dummies(df.AgeCategory, drop_first=True,prefix='Age').join(df.drop(columns=['Age','AgeCategory']))\n",
        "df = pd.get_dummies(df.Pclass, drop_first=True,prefix='Pclass').join(df.drop(columns=['Pclass']))\n",
        "df = pd.get_dummies(df.SibSp, drop_first=True,prefix='SibSp').join(df.drop(columns=['SibSp']))\n",
        "df = pd.get_dummies(df.Parch, drop_first=True,prefix='Parch').join(df.drop(columns=['Parch']))\n",
        "df = pd.get_dummies(df.Sex, drop_first=True,prefix='Sex').join(df.drop(columns=['Sex']))\n",
        "df = pd.get_dummies(df.Embarked, drop_first=True,prefix='Embarked').join(df.drop(columns=['Embarked']))\n",
        "df.head(5)"
      ]
    },
    {
      "cell_type": "code",
      "execution_count": null,
      "metadata": {
        "id": "2Ib-4UcA2v_v"
      },
      "outputs": [],
      "source": [
        "# Save to an external file.\n",
        "df.to_csv('data_titanic_2.csv',index=False)"
      ]
    },
    {
      "cell_type": "markdown",
      "metadata": {
        "id": "RsJROgza2v_w"
      },
      "source": [
        "#### 1.5. KNN train and test:"
      ]
    },
    {
      "cell_type": "code",
      "execution_count": null,
      "metadata": {
        "id": "CIWvtvLj2v_w"
      },
      "outputs": [],
      "source": [
        "X = df.drop(columns=['Survived'])\n",
        "Y = df.Survived"
      ]
    },
    {
      "cell_type": "code",
      "execution_count": null,
      "metadata": {
        "id": "mKYC5MCw2v_x"
      },
      "outputs": [],
      "source": [
        "X_train, X_test, Y_train, Y_test = train_test_split(X, Y, test_size=0.3, random_state=1234)"
      ]
    },
    {
      "cell_type": "code",
      "execution_count": null,
      "metadata": {
        "id": "TmIJQvWr2v_y"
      },
      "outputs": [],
      "source": [
        "print(X_train.shape)\n",
        "print(X_test.shape)\n",
        "print(Y_train.shape)\n",
        "print(Y_test.shape)"
      ]
    },
    {
      "cell_type": "code",
      "execution_count": null,
      "metadata": {
        "id": "mUlubw3N2v_y"
      },
      "outputs": [],
      "source": [
        "# KNN with n_neighbours = 5\n",
        "knn5 = KNeighborsClassifier(n_neighbors=5)\n",
        "knn5.fit(X_train, Y_train);\n",
        "Y_pred = knn5.predict(X_test)\n",
        "print(metrics.confusion_matrix(Y_test,Y_pred))\n",
        "print(\"------------------------\")\n",
        "print( \"Accuracy : \" + str(np.round(metrics.accuracy_score(Y_test,Y_pred),3)))"
      ]
    },
    {
      "cell_type": "code",
      "execution_count": null,
      "metadata": {
        "id": "PCofZb4e2v_z"
      },
      "outputs": [],
      "source": [
        "# KNN with n_neighbours = 100\n",
        "knn100 = KNeighborsClassifier(n_neighbors=100)\n",
        "knn100.fit(X_train, Y_train);\n",
        "Y_pred = knn100.predict(X_test)\n",
        "print(metrics.confusion_matrix(Y_test,Y_pred))\n",
        "print(\"------------------------\")\n",
        "print( \"Accuracy : \" + str(np.round(metrics.accuracy_score(Y_test,Y_pred),3)))"
      ]
    },
    {
      "cell_type": "markdown",
      "metadata": {
        "id": "FBO1KczN2v_z"
      },
      "source": [
        "#### 1.6. KNN bias-Variance tradeoff as function of *k*: "
      ]
    },
    {
      "cell_type": "code",
      "execution_count": null,
      "metadata": {
        "id": "WDPw2hdn2v_z"
      },
      "outputs": [],
      "source": [
        "accs = []\n",
        "k_grid = range(1,100,1)\n",
        "for k in k_grid:\n",
        "    knn = KNeighborsClassifier(n_neighbors=k)\n",
        "    knn.fit(X_train, Y_train)\n",
        "    Y_pred = knn.predict(X_test)\n",
        "    accs.append(metrics.accuracy_score(Y_test,Y_pred))"
      ]
    },
    {
      "cell_type": "code",
      "execution_count": null,
      "metadata": {
        "id": "mtUhR-0k2v_0"
      },
      "outputs": [],
      "source": [
        "# Visualize.\n",
        "plt.scatter(k_grid,accs,c='red',marker='o',s=10,alpha=0.6)\n",
        "plt.xlabel('k')\n",
        "plt.ylabel('Accuracy')\n",
        "plt.title('Accuracy vs k')\n",
        "plt.show()"
      ]
    },
    {
      "cell_type": "markdown",
      "metadata": {
        "id": "Q5pUq-7G2v_0"
      },
      "source": [
        "#### 1.7. KNN hyperparameter optimization:"
      ]
    },
    {
      "cell_type": "code",
      "execution_count": null,
      "metadata": {
        "id": "nVVl9r552v_0"
      },
      "outputs": [],
      "source": [
        "# Parameter grid.\n",
        "k_grid = np.arange(1,51,1)\n",
        "parameters = {'n_neighbors':k_grid}"
      ]
    },
    {
      "cell_type": "code",
      "execution_count": null,
      "metadata": {
        "id": "nCli-5Qc2v_1"
      },
      "outputs": [],
      "source": [
        "# Optimize the k.\n",
        "gridCV = GridSearchCV(KNeighborsClassifier(), parameters, cv=10, n_jobs = -1)       # \"n_jobs = -1\" means \"use all the CPU cores\".\n",
        "gridCV.fit(X_train, Y_train)\n",
        "best_k = gridCV.best_params_['n_neighbors']\n",
        "print(\"Best k : \" + str(best_k))"
      ]
    },
    {
      "cell_type": "code",
      "execution_count": null,
      "metadata": {
        "id": "cM0DvQeo2v_1"
      },
      "outputs": [],
      "source": [
        "# Test with the best k.\n",
        "KNN_best = KNeighborsClassifier(n_neighbors=best_k)\n",
        "KNN_best.fit(X_train, Y_train)\n",
        "Y_pred = KNN_best.predict(X_test)\n",
        "print( \"Best Accuracy : \" + str(np.round(metrics.accuracy_score(Y_test,Y_pred),3)))"
      ]
    },
    {
      "cell_type": "code",
      "execution_count": null,
      "metadata": {
        "id": "TEahDxko2v_1"
      },
      "outputs": [],
      "source": []
    }
  ],
  "metadata": {
    "kernelspec": {
      "display_name": "Python 3",
      "language": "python",
      "name": "python3"
    },
    "language_info": {
      "codemirror_mode": {
        "name": "ipython",
        "version": 3
      },
      "file_extension": ".py",
      "mimetype": "text/x-python",
      "name": "python",
      "nbconvert_exporter": "python",
      "pygments_lexer": "ipython3",
      "version": "3.7.3"
    },
    "colab": {
      "provenance": []
    }
  },
  "nbformat": 4,
  "nbformat_minor": 0
}