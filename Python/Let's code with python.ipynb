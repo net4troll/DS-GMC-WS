{
 "nbformat": 4,
 "nbformat_minor": 0,
 "metadata": {
  "colab": {
   "provenance": [],
   "authorship_tag": "ABX9TyM3aPW/usbC4zcaYqkoAoGJ",
   "include_colab_link": true
  },
  "kernelspec": {
   "name": "python3",
   "display_name": "Python 3"
  },
  "language_info": {
   "name": "python"
  }
 },
 "cells": [
  {
   "cell_type": "markdown",
   "metadata": {
    "id": "view-in-github",
    "colab_type": "text"
   },
   "source": [
    "<a href=\"https://colab.research.google.com/github/net4troll/DS-GMC-WS/blob/main/Ali_REZOUALI_let's_code_with_python.ipynb\" target=\"_parent\"><img src=\"https://colab.research.google.com/assets/colab-badge.svg\" alt=\"Open In Colab\"/></a>"
   ]
  },
  {
   "cell_type": "code",
   "execution_count": null,
   "metadata": {
    "colab": {
     "base_uri": "https://localhost:8080/"
    },
    "id": "lkiYlQgfgk_W",
    "outputId": "a07157bd-2bad-4cd4-d858-bce986819e88"
   },
   "outputs": [
    {
     "output_type": "stream",
     "name": "stdout",
     "text": [
      "-10\n",
      "-9\n",
      "-8\n",
      "-7\n",
      "-6\n",
      "-5\n",
      "-4\n",
      "-3\n",
      "-2\n",
      "-1\n"
     ]
    }
   ],
   "source": [
    "# Display numbers from -10 to -1 using for loop\n",
    "for i in range(-10,0,1):\n",
    "  print(i)"
   ]
  },
  {
   "cell_type": "code",
   "source": [
    "#Given a number count the total number of digits in a number, for example, the number is 75869, so the output should be 5\n",
    "n = 76869\n",
    "len(str(n))"
   ],
   "metadata": {
    "colab": {
     "base_uri": "https://localhost:8080/"
    },
    "id": "gb7P_-NChXHe",
    "outputId": "22e60c33-c484-435f-91c1-3365df29341e"
   },
   "execution_count": null,
   "outputs": [
    {
     "output_type": "execute_result",
     "data": {
      "text/plain": [
       "5"
      ]
     },
     "metadata": {},
     "execution_count": 2
    }
   ]
  },
  {
   "cell_type": "code",
   "source": [
    "#Write a function which Displays the cube of the number up to a given integer, for example the number is 2 the cube should be 8\n",
    "def cube(n):\n",
    "  cube = n**3\n",
    "  print(cube)\n",
    "cube(2)"
   ],
   "metadata": {
    "colab": {
     "base_uri": "https://localhost:8080/"
    },
    "id": "Gs55urJpiY4y",
    "outputId": "5209e563-2511-4931-bb23-841122c7bf48"
   },
   "execution_count": null,
   "outputs": [
    {
     "output_type": "stream",
     "name": "stdout",
     "text": [
      "8\n"
     ]
    }
   ]
  },
  {
   "cell_type": "code",
   "source": [
    "#Given two integer numbers return their product. If the product is greater than 1000, then return their sum\n",
    "n=35\n",
    "p=60\n",
    "if n*p > 1000:\n",
    "  print(\"sum is \", n+p)\n",
    "else:\n",
    "  print(\"product is \" , n*p)"
   ],
   "metadata": {
    "colab": {
     "base_uri": "https://localhost:8080/"
    },
    "id": "_wTeGniRioWb",
    "outputId": "a7b9f1fb-4ff7-4eed-96b5-a473aa2b753e"
   },
   "execution_count": null,
   "outputs": [
    {
     "output_type": "stream",
     "name": "stdout",
     "text": [
      "sum is  95\n"
     ]
    }
   ]
  },
  {
   "cell_type": "code",
   "source": [
    "#Given a list of numbers, return True if first and last number of a list is same\n",
    "l = [2,4,7,2,0,1]\n",
    "if l[0] == l[-1]:\n",
    "  print(True)\n",
    "else:\n",
    "  print(False)"
   ],
   "metadata": {
    "colab": {
     "base_uri": "https://localhost:8080/"
    },
    "id": "66F7CnrSjgJE",
    "outputId": "e9ba4031-5839-4104-eeda-d2faf9b0dd24"
   },
   "execution_count": null,
   "outputs": [
    {
     "output_type": "stream",
     "name": "stdout",
     "text": [
      "False\n"
     ]
    }
   ]
  },
  {
   "cell_type": "code",
   "source": [
    "#Given a two list of numbers create a new list such that new list should contain only odd numbers from the first list and even numbers from the second list,\n",
    "#for example list1 =  [10, 20, 23, 11, 17] and list 2 = [13, 43, 24, 36, 12]  => result should be [23, 11, 17, 24, 36, 12]\n",
    "list1 =  [10, 20, 23, 11, 17]\n",
    "list2 = [13, 43, 24, 36, 12]\n",
    "list3 = []\n",
    "for x in list1:\n",
    "  if x % 2 != 0:\n",
    "    list3.append(x)\n",
    "for y in list2:\n",
    "  if y % 2 == 0:\n",
    "    list3.append(y)\n",
    "print(list3)"
   ],
   "metadata": {
    "colab": {
     "base_uri": "https://localhost:8080/"
    },
    "id": "l_BcOEWIkVzC",
    "outputId": "3118eea0-a620-4c0e-a801-8ff3f5e5fd5f"
   },
   "execution_count": null,
   "outputs": [
    {
     "output_type": "stream",
     "name": "stdout",
     "text": [
      "[23, 11, 17, 24, 36, 12]\n"
     ]
    }
   ]
  },
  {
   "cell_type": "code",
   "source": [
    "def list_appender(x_list,y_list):\n",
    "  k=[]\n",
    "  k.append([x for x in x_list if x % 2 != 0] )\n",
    "  k.append([y for y in y_list if y %2 == 0])\n",
    "  return print(k)\n",
    "list_appender(list1,list2)"
   ],
   "metadata": {
    "colab": {
     "base_uri": "https://localhost:8080/"
    },
    "id": "Fv5Vr6DSIzR8",
    "outputId": "55ab7af4-c2e5-4658-be65-5ef6f71ce249"
   },
   "execution_count": null,
   "outputs": [
    {
     "output_type": "stream",
     "name": "stdout",
     "text": [
      "[[23, 11, 17], [24, 36, 12]]\n"
     ]
    }
   ]
  },
  {
   "cell_type": "code",
   "source": [
    "#Write a function which Iterates a given list and counts the occurrence of each element and creates a dictionary to show the count of each element,\n",
    "#for example: input list  [11, 45, 8, 11, 23, 45, 23, 45, 89]=> result should be {11: 2, 45: 3, 8: 1, 23: 2, 89: 1}\n",
    "list4 = [11, 45, 8, 11, 23, 45, 23, 45, 89]\n",
    "def list_counter(alist):\n",
    "  dic1={}\n",
    "  for i in alist:\n",
    "    dic1[i]=alist.count(i)\n",
    "  print(dic1)\n",
    "list_counter(list4)"
   ],
   "metadata": {
    "colab": {
     "base_uri": "https://localhost:8080/"
    },
    "id": "M3SRvfstlMLD",
    "outputId": "4af796fd-862e-4d1a-eda5-3a9cfe9a04a7"
   },
   "execution_count": null,
   "outputs": [
    {
     "output_type": "stream",
     "name": "stdout",
     "text": [
      "{11: 2, 45: 3, 8: 1, 23: 2, 89: 1}\n"
     ]
    }
   ]
  },
  {
   "cell_type": "code",
   "source": [
    "#Write a function which finds the intersection of two sets and removes common elements from the first set.\n",
    "#for example: First Set  {65, 42, 78, 83, 23, 57, 29} and Second Set  {67, 73, 43, 48, 83, 57, 29} => Intersection should be  {57, 83, 29} and First Set after removing common element  {65, 42, 78, 23}\n",
    "set1=set({65, 42, 78, 83, 23, 57, 29})\n",
    "set2=set({67, 73, 43, 48, 83, 57, 29})\n",
    "def my_func(s1,s2):\n",
    "  s3=s1.intersection(s2)\n",
    "  s1.difference_update(s3)\n",
    "  print(s3)\n",
    "  print(s1)\n",
    "my_func(set1,set2)\n"
   ],
   "metadata": {
    "colab": {
     "base_uri": "https://localhost:8080/"
    },
    "id": "GYJtADh1mtmF",
    "outputId": "6c9af96f-e6ac-4e74-a61a-25e390a862da"
   },
   "execution_count": null,
   "outputs": [
    {
     "output_type": "stream",
     "name": "stdout",
     "text": [
      "{57, 83, 29}\n",
      "{65, 23, 42, 78}\n"
     ]
    }
   ]
  },
  {
   "cell_type": "code",
   "source": [],
   "metadata": {
    "id": "K0rLca0NM4O9"
   },
   "execution_count": null,
   "outputs": []
  },
  {
   "cell_type": "code",
   "source": [],
   "metadata": {
    "id": "qK_H1gUEnGqZ"
   },
   "execution_count": null,
   "outputs": []
  }
 ]
}
